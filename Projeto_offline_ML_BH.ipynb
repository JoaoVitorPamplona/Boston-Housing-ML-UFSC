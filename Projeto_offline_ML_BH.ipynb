{
 "cells": [
  {
   "cell_type": "markdown",
   "metadata": {
    "id": "NI1cVi_NGUOO"
   },
   "source": [
    "# Projeto Boston Housing\n",
    "\n"
   ]
  },
  {
   "cell_type": "markdown",
   "metadata": {
    "id": "6T9pPKu28Mwe"
   },
   "source": [
    "# Configuração inicial"
   ]
  },
  {
   "cell_type": "markdown",
   "metadata": {
    "id": "dsm0INajpWcX"
   },
   "source": [
    "Vamos começar importando algumas bibliotecas básicas:\n",
    "\n",
    "*Numpy* - Pacote para computação científica em Python. [Saiba mais.](https://numpy.org/)\n",
    "\n",
    "*os* - Diversas interfaces para sistema operacional. [Saiba mais.](https://docs.python.org/3/library/os.html)\n",
    "\n",
    "O NumPy é extramente útil, fornecendo das mais básicas às mais avançadas técnicas de computação científica.\n",
    "\n"
   ]
  },
  {
   "cell_type": "code",
   "execution_count": 1,
   "metadata": {
    "id": "iDJOKH5NA1QG"
   },
   "outputs": [],
   "source": [
    "# Importações comuns\n",
    "import numpy as np\n",
    "import os"
   ]
  },
  {
   "cell_type": "markdown",
   "metadata": {
    "id": "fvhLqbuKoskQ"
   },
   "source": [
    "Vamos agora fixar o sorteio aleatório de números no nosso projeto. Observa que isso é importante para que possamos reproduzir o modelo."
   ]
  },
  {
   "cell_type": "code",
   "execution_count": 2,
   "metadata": {
    "id": "e6CD-_tpA7o_"
   },
   "outputs": [],
   "source": [
    "#Para garantir estabilidade e ser mais fácil reproduzir experimento\n",
    "seed = 42\n",
    "np.random.seed(seed)"
   ]
  },
  {
   "cell_type": "markdown",
   "metadata": {
    "id": "v0g6E-R1rtt9"
   },
   "source": [
    "Vamos agora importar módulo básicos do [matplotlib](https://matplotlib.org/) para plotar figuras. [Confira aqui](https://matplotlib.org/api/_as_gen/matplotlib.pyplot.rc.html) a documentação do matplotlib.rc"
   ]
  },
  {
   "cell_type": "code",
   "execution_count": 3,
   "metadata": {
    "colab": {
     "base_uri": "https://localhost:8080/"
    },
    "id": "-XilT7mJA-fx",
    "outputId": "0f2d8f78-cdc5-4fb4-81a4-d9a35dcc35ea"
   },
   "outputs": [
    {
     "name": "stderr",
     "output_type": "stream",
     "text": [
      "UsageError: unrecognized arguments: #Gráficos matplotlib incluídos no notebook, ao lado do código\n"
     ]
    }
   ],
   "source": [
    "# Para plotar figuras\n",
    "%matplotlib inline #Gráficos matplotlib incluídos no notebook, ao lado do código\n",
    "import matplotlib as mpl \n",
    "import matplotlib.pyplot as plt \n",
    "\n",
    "mpl.rc('axes', labelsize=14) \n",
    "mpl.rc('xtick', labelsize=12)\n",
    "mpl.rc('ytick', labelsize=12)"
   ]
  },
  {
   "cell_type": "markdown",
   "metadata": {
    "id": "tDgr37xgBVsA"
   },
   "source": [
    "É comum que alarmes sejam disparados quando há algum erro interno ao rodar os códigos. Em geral é importante manter eles ligados pois podem nos ajudar a identificar possíveis erros no código. \n",
    "\n",
    "Por hora vamos desligar alguns warnings desnecessários relacionados ao 'internal gelsd'. Você pode conferir essa issue [aqui no GitHub](https://github.com/scipy/scipy/issues/5998). "
   ]
  },
  {
   "cell_type": "code",
   "execution_count": 4,
   "metadata": {
    "id": "Zwbr171pBB2O"
   },
   "outputs": [],
   "source": [
    "# Ignorar warnings desnecessários (ver SciPy issue #5998)\n",
    "import warnings\n",
    "warnings.filterwarnings(action=\"ignore\", message=\"^internal gelsd\")"
   ]
  },
  {
   "cell_type": "markdown",
   "metadata": {
    "id": "CU8EFsXB8Mwz"
   },
   "source": [
    "# Obtendo os dados"
   ]
  },
  {
   "cell_type": "markdown",
   "metadata": {
    "id": "Z7EBBu6Eyyr6"
   },
   "source": [
    "Nesta etapa você deverá obter os dados necessários ao problema. A função definida à serguir faz um htpp request no link, faz download do arquivo zip e após isso extrai os dados, salvando no diretório \"datasets/housing\"."
   ]
  },
  {
   "cell_type": "code",
   "execution_count": 5,
   "metadata": {
    "id": "i7N5Z56F8Mw3"
   },
   "outputs": [],
   "source": [
    "import os\n",
    "import tarfile"
   ]
  },
  {
   "cell_type": "markdown",
   "metadata": {
    "id": "2O7_U2bT1dVB"
   },
   "source": [
    "Vamos importar a biblioteca do pandas que é extremamente útil para lidar dataframs (tabela de dados). Vamos carregar os dados no diretório criado, criando um ***pandas frame*** que conterá as informações do arquivo housing.csv"
   ]
  },
  {
   "cell_type": "code",
   "execution_count": 6,
   "metadata": {
    "id": "LdF8chZz8MxH"
   },
   "outputs": [],
   "source": [
    "import pandas as pd\n",
    "\n",
    "url = 'https://raw.githubusercontent.com/selva86/datasets/master/BostonHousing.csv'\n",
    "\n",
    "pf = pd.read_csv(url, error_bad_lines=False)\n",
    "housing = pf"
   ]
  },
  {
   "cell_type": "markdown",
   "metadata": {
    "id": "5pyrlvhc7UKA"
   },
   "source": [
    "# Conheçendo os dados"
   ]
  },
  {
   "cell_type": "markdown",
   "metadata": {
    "id": "OrkY3oWp7b9k"
   },
   "source": [
    "Vamos começar visualizando as 5 primeiras linhas do dataframe"
   ]
  },
  {
   "cell_type": "code",
   "execution_count": 7,
   "metadata": {
    "colab": {
     "base_uri": "https://localhost:8080/",
     "height": 204
    },
    "id": "sCjYEUDH7ZAU",
    "outputId": "ea87e824-79d7-4846-b24f-739c0a368567"
   },
   "outputs": [
    {
     "data": {
      "text/html": [
       "<div>\n",
       "<style scoped>\n",
       "    .dataframe tbody tr th:only-of-type {\n",
       "        vertical-align: middle;\n",
       "    }\n",
       "\n",
       "    .dataframe tbody tr th {\n",
       "        vertical-align: top;\n",
       "    }\n",
       "\n",
       "    .dataframe thead th {\n",
       "        text-align: right;\n",
       "    }\n",
       "</style>\n",
       "<table border=\"1\" class=\"dataframe\">\n",
       "  <thead>\n",
       "    <tr style=\"text-align: right;\">\n",
       "      <th></th>\n",
       "      <th>crim</th>\n",
       "      <th>zn</th>\n",
       "      <th>indus</th>\n",
       "      <th>chas</th>\n",
       "      <th>nox</th>\n",
       "      <th>rm</th>\n",
       "      <th>age</th>\n",
       "      <th>dis</th>\n",
       "      <th>rad</th>\n",
       "      <th>tax</th>\n",
       "      <th>ptratio</th>\n",
       "      <th>b</th>\n",
       "      <th>lstat</th>\n",
       "      <th>medv</th>\n",
       "    </tr>\n",
       "  </thead>\n",
       "  <tbody>\n",
       "    <tr>\n",
       "      <th>0</th>\n",
       "      <td>0.00632</td>\n",
       "      <td>18.0</td>\n",
       "      <td>2.31</td>\n",
       "      <td>0</td>\n",
       "      <td>0.538</td>\n",
       "      <td>6.575</td>\n",
       "      <td>65.2</td>\n",
       "      <td>4.0900</td>\n",
       "      <td>1</td>\n",
       "      <td>296</td>\n",
       "      <td>15.3</td>\n",
       "      <td>396.90</td>\n",
       "      <td>4.98</td>\n",
       "      <td>24.0</td>\n",
       "    </tr>\n",
       "    <tr>\n",
       "      <th>1</th>\n",
       "      <td>0.02731</td>\n",
       "      <td>0.0</td>\n",
       "      <td>7.07</td>\n",
       "      <td>0</td>\n",
       "      <td>0.469</td>\n",
       "      <td>6.421</td>\n",
       "      <td>78.9</td>\n",
       "      <td>4.9671</td>\n",
       "      <td>2</td>\n",
       "      <td>242</td>\n",
       "      <td>17.8</td>\n",
       "      <td>396.90</td>\n",
       "      <td>9.14</td>\n",
       "      <td>21.6</td>\n",
       "    </tr>\n",
       "    <tr>\n",
       "      <th>2</th>\n",
       "      <td>0.02729</td>\n",
       "      <td>0.0</td>\n",
       "      <td>7.07</td>\n",
       "      <td>0</td>\n",
       "      <td>0.469</td>\n",
       "      <td>7.185</td>\n",
       "      <td>61.1</td>\n",
       "      <td>4.9671</td>\n",
       "      <td>2</td>\n",
       "      <td>242</td>\n",
       "      <td>17.8</td>\n",
       "      <td>392.83</td>\n",
       "      <td>4.03</td>\n",
       "      <td>34.7</td>\n",
       "    </tr>\n",
       "    <tr>\n",
       "      <th>3</th>\n",
       "      <td>0.03237</td>\n",
       "      <td>0.0</td>\n",
       "      <td>2.18</td>\n",
       "      <td>0</td>\n",
       "      <td>0.458</td>\n",
       "      <td>6.998</td>\n",
       "      <td>45.8</td>\n",
       "      <td>6.0622</td>\n",
       "      <td>3</td>\n",
       "      <td>222</td>\n",
       "      <td>18.7</td>\n",
       "      <td>394.63</td>\n",
       "      <td>2.94</td>\n",
       "      <td>33.4</td>\n",
       "    </tr>\n",
       "    <tr>\n",
       "      <th>4</th>\n",
       "      <td>0.06905</td>\n",
       "      <td>0.0</td>\n",
       "      <td>2.18</td>\n",
       "      <td>0</td>\n",
       "      <td>0.458</td>\n",
       "      <td>7.147</td>\n",
       "      <td>54.2</td>\n",
       "      <td>6.0622</td>\n",
       "      <td>3</td>\n",
       "      <td>222</td>\n",
       "      <td>18.7</td>\n",
       "      <td>396.90</td>\n",
       "      <td>5.33</td>\n",
       "      <td>36.2</td>\n",
       "    </tr>\n",
       "  </tbody>\n",
       "</table>\n",
       "</div>"
      ],
      "text/plain": [
       "      crim    zn  indus  chas    nox     rm   age     dis  rad  tax  ptratio  \\\n",
       "0  0.00632  18.0   2.31     0  0.538  6.575  65.2  4.0900    1  296     15.3   \n",
       "1  0.02731   0.0   7.07     0  0.469  6.421  78.9  4.9671    2  242     17.8   \n",
       "2  0.02729   0.0   7.07     0  0.469  7.185  61.1  4.9671    2  242     17.8   \n",
       "3  0.03237   0.0   2.18     0  0.458  6.998  45.8  6.0622    3  222     18.7   \n",
       "4  0.06905   0.0   2.18     0  0.458  7.147  54.2  6.0622    3  222     18.7   \n",
       "\n",
       "        b  lstat  medv  \n",
       "0  396.90   4.98  24.0  \n",
       "1  396.90   9.14  21.6  \n",
       "2  392.83   4.03  34.7  \n",
       "3  394.63   2.94  33.4  \n",
       "4  396.90   5.33  36.2  "
      ]
     },
     "execution_count": 7,
     "metadata": {},
     "output_type": "execute_result"
    }
   ],
   "source": [
    "housing.head()"
   ]
  },
  {
   "cell_type": "markdown",
   "metadata": {
    "id": "0IV8ScPJ6P_L"
   },
   "source": [
    "Observa que todas as 5 primeiras amostras estão de certa forma ordenados.  \n",
    "\n",
    "Vamos fazer então o seguinte: vamos coletar uma amostra contendo 10 instâncias para visualizar os nossos dados. Observa que esse processo envolve uma aleatoriedade, daí a importância de fixar random_state em um certo valor caso você tenha interesse em reproduzir o experimento."
   ]
  },
  {
   "cell_type": "code",
   "execution_count": 9,
   "metadata": {
    "colab": {
     "base_uri": "https://localhost:8080/",
     "height": 359
    },
    "id": "erjyqxzn57Oc",
    "outputId": "0c610a6a-4778-4885-e21c-ffc361e8a34b"
   },
   "outputs": [
    {
     "data": {
      "text/html": [
       "<div>\n",
       "<style scoped>\n",
       "    .dataframe tbody tr th:only-of-type {\n",
       "        vertical-align: middle;\n",
       "    }\n",
       "\n",
       "    .dataframe tbody tr th {\n",
       "        vertical-align: top;\n",
       "    }\n",
       "\n",
       "    .dataframe thead th {\n",
       "        text-align: right;\n",
       "    }\n",
       "</style>\n",
       "<table border=\"1\" class=\"dataframe\">\n",
       "  <thead>\n",
       "    <tr style=\"text-align: right;\">\n",
       "      <th></th>\n",
       "      <th>crim</th>\n",
       "      <th>zn</th>\n",
       "      <th>indus</th>\n",
       "      <th>chas</th>\n",
       "      <th>nox</th>\n",
       "      <th>rm</th>\n",
       "      <th>age</th>\n",
       "      <th>dis</th>\n",
       "      <th>rad</th>\n",
       "      <th>tax</th>\n",
       "      <th>ptratio</th>\n",
       "      <th>b</th>\n",
       "      <th>lstat</th>\n",
       "      <th>medv</th>\n",
       "    </tr>\n",
       "  </thead>\n",
       "  <tbody>\n",
       "    <tr>\n",
       "      <th>173</th>\n",
       "      <td>0.09178</td>\n",
       "      <td>0.0</td>\n",
       "      <td>4.05</td>\n",
       "      <td>0</td>\n",
       "      <td>0.510</td>\n",
       "      <td>6.416</td>\n",
       "      <td>84.1</td>\n",
       "      <td>2.6463</td>\n",
       "      <td>5</td>\n",
       "      <td>296</td>\n",
       "      <td>16.6</td>\n",
       "      <td>395.50</td>\n",
       "      <td>9.04</td>\n",
       "      <td>23.6</td>\n",
       "    </tr>\n",
       "    <tr>\n",
       "      <th>274</th>\n",
       "      <td>0.05644</td>\n",
       "      <td>40.0</td>\n",
       "      <td>6.41</td>\n",
       "      <td>1</td>\n",
       "      <td>0.447</td>\n",
       "      <td>6.758</td>\n",
       "      <td>32.9</td>\n",
       "      <td>4.0776</td>\n",
       "      <td>4</td>\n",
       "      <td>254</td>\n",
       "      <td>17.6</td>\n",
       "      <td>396.90</td>\n",
       "      <td>3.53</td>\n",
       "      <td>32.4</td>\n",
       "    </tr>\n",
       "    <tr>\n",
       "      <th>491</th>\n",
       "      <td>0.10574</td>\n",
       "      <td>0.0</td>\n",
       "      <td>27.74</td>\n",
       "      <td>0</td>\n",
       "      <td>0.609</td>\n",
       "      <td>5.983</td>\n",
       "      <td>98.8</td>\n",
       "      <td>1.8681</td>\n",
       "      <td>4</td>\n",
       "      <td>711</td>\n",
       "      <td>20.1</td>\n",
       "      <td>390.11</td>\n",
       "      <td>18.07</td>\n",
       "      <td>13.6</td>\n",
       "    </tr>\n",
       "    <tr>\n",
       "      <th>72</th>\n",
       "      <td>0.09164</td>\n",
       "      <td>0.0</td>\n",
       "      <td>10.81</td>\n",
       "      <td>0</td>\n",
       "      <td>0.413</td>\n",
       "      <td>6.065</td>\n",
       "      <td>7.8</td>\n",
       "      <td>5.2873</td>\n",
       "      <td>4</td>\n",
       "      <td>305</td>\n",
       "      <td>19.2</td>\n",
       "      <td>390.91</td>\n",
       "      <td>5.52</td>\n",
       "      <td>22.8</td>\n",
       "    </tr>\n",
       "    <tr>\n",
       "      <th>452</th>\n",
       "      <td>5.09017</td>\n",
       "      <td>0.0</td>\n",
       "      <td>18.10</td>\n",
       "      <td>0</td>\n",
       "      <td>0.713</td>\n",
       "      <td>6.297</td>\n",
       "      <td>91.8</td>\n",
       "      <td>2.3682</td>\n",
       "      <td>24</td>\n",
       "      <td>666</td>\n",
       "      <td>20.2</td>\n",
       "      <td>385.09</td>\n",
       "      <td>17.27</td>\n",
       "      <td>16.1</td>\n",
       "    </tr>\n",
       "    <tr>\n",
       "      <th>76</th>\n",
       "      <td>0.10153</td>\n",
       "      <td>0.0</td>\n",
       "      <td>12.83</td>\n",
       "      <td>0</td>\n",
       "      <td>0.437</td>\n",
       "      <td>6.279</td>\n",
       "      <td>74.5</td>\n",
       "      <td>4.0522</td>\n",
       "      <td>5</td>\n",
       "      <td>398</td>\n",
       "      <td>18.7</td>\n",
       "      <td>373.66</td>\n",
       "      <td>11.97</td>\n",
       "      <td>20.0</td>\n",
       "    </tr>\n",
       "    <tr>\n",
       "      <th>316</th>\n",
       "      <td>0.31827</td>\n",
       "      <td>0.0</td>\n",
       "      <td>9.90</td>\n",
       "      <td>0</td>\n",
       "      <td>0.544</td>\n",
       "      <td>5.914</td>\n",
       "      <td>83.2</td>\n",
       "      <td>3.9986</td>\n",
       "      <td>4</td>\n",
       "      <td>304</td>\n",
       "      <td>18.4</td>\n",
       "      <td>390.70</td>\n",
       "      <td>18.33</td>\n",
       "      <td>17.8</td>\n",
       "    </tr>\n",
       "    <tr>\n",
       "      <th>140</th>\n",
       "      <td>0.29090</td>\n",
       "      <td>0.0</td>\n",
       "      <td>21.89</td>\n",
       "      <td>0</td>\n",
       "      <td>0.624</td>\n",
       "      <td>6.174</td>\n",
       "      <td>93.6</td>\n",
       "      <td>1.6119</td>\n",
       "      <td>4</td>\n",
       "      <td>437</td>\n",
       "      <td>21.2</td>\n",
       "      <td>388.08</td>\n",
       "      <td>24.16</td>\n",
       "      <td>14.0</td>\n",
       "    </tr>\n",
       "    <tr>\n",
       "      <th>471</th>\n",
       "      <td>4.03841</td>\n",
       "      <td>0.0</td>\n",
       "      <td>18.10</td>\n",
       "      <td>0</td>\n",
       "      <td>0.532</td>\n",
       "      <td>6.229</td>\n",
       "      <td>90.7</td>\n",
       "      <td>3.0993</td>\n",
       "      <td>24</td>\n",
       "      <td>666</td>\n",
       "      <td>20.2</td>\n",
       "      <td>395.33</td>\n",
       "      <td>12.87</td>\n",
       "      <td>19.6</td>\n",
       "    </tr>\n",
       "    <tr>\n",
       "      <th>500</th>\n",
       "      <td>0.22438</td>\n",
       "      <td>0.0</td>\n",
       "      <td>9.69</td>\n",
       "      <td>0</td>\n",
       "      <td>0.585</td>\n",
       "      <td>6.027</td>\n",
       "      <td>79.7</td>\n",
       "      <td>2.4982</td>\n",
       "      <td>6</td>\n",
       "      <td>391</td>\n",
       "      <td>19.2</td>\n",
       "      <td>396.90</td>\n",
       "      <td>14.33</td>\n",
       "      <td>16.8</td>\n",
       "    </tr>\n",
       "  </tbody>\n",
       "</table>\n",
       "</div>"
      ],
      "text/plain": [
       "        crim    zn  indus  chas    nox     rm   age     dis  rad  tax  \\\n",
       "173  0.09178   0.0   4.05     0  0.510  6.416  84.1  2.6463    5  296   \n",
       "274  0.05644  40.0   6.41     1  0.447  6.758  32.9  4.0776    4  254   \n",
       "491  0.10574   0.0  27.74     0  0.609  5.983  98.8  1.8681    4  711   \n",
       "72   0.09164   0.0  10.81     0  0.413  6.065   7.8  5.2873    4  305   \n",
       "452  5.09017   0.0  18.10     0  0.713  6.297  91.8  2.3682   24  666   \n",
       "76   0.10153   0.0  12.83     0  0.437  6.279  74.5  4.0522    5  398   \n",
       "316  0.31827   0.0   9.90     0  0.544  5.914  83.2  3.9986    4  304   \n",
       "140  0.29090   0.0  21.89     0  0.624  6.174  93.6  1.6119    4  437   \n",
       "471  4.03841   0.0  18.10     0  0.532  6.229  90.7  3.0993   24  666   \n",
       "500  0.22438   0.0   9.69     0  0.585  6.027  79.7  2.4982    6  391   \n",
       "\n",
       "     ptratio       b  lstat  medv  \n",
       "173     16.6  395.50   9.04  23.6  \n",
       "274     17.6  396.90   3.53  32.4  \n",
       "491     20.1  390.11  18.07  13.6  \n",
       "72      19.2  390.91   5.52  22.8  \n",
       "452     20.2  385.09  17.27  16.1  \n",
       "76      18.7  373.66  11.97  20.0  \n",
       "316     18.4  390.70  18.33  17.8  \n",
       "140     21.2  388.08  24.16  14.0  \n",
       "471     20.2  395.33  12.87  19.6  \n",
       "500     19.2  396.90  14.33  16.8  "
      ]
     },
     "execution_count": 9,
     "metadata": {},
     "output_type": "execute_result"
    }
   ],
   "source": [
    "housing.sample(n = 10, random_state = seed)"
   ]
  },
  {
   "cell_type": "markdown",
   "metadata": {
    "id": "is1_dSbF7MeL"
   },
   "source": [
    "Vamos agora nos informar a respeito das variáveis do problemas"
   ]
  },
  {
   "cell_type": "code",
   "execution_count": 10,
   "metadata": {
    "colab": {
     "base_uri": "https://localhost:8080/"
    },
    "id": "Ae6oJj4R8MxZ",
    "outputId": "48395392-b186-4446-8d51-f409ee94ae18"
   },
   "outputs": [
    {
     "name": "stdout",
     "output_type": "stream",
     "text": [
      "<class 'pandas.core.frame.DataFrame'>\n",
      "RangeIndex: 506 entries, 0 to 505\n",
      "Data columns (total 14 columns):\n",
      " #   Column   Non-Null Count  Dtype  \n",
      "---  ------   --------------  -----  \n",
      " 0   crim     506 non-null    float64\n",
      " 1   zn       506 non-null    float64\n",
      " 2   indus    506 non-null    float64\n",
      " 3   chas     506 non-null    int64  \n",
      " 4   nox      506 non-null    float64\n",
      " 5   rm       506 non-null    float64\n",
      " 6   age      506 non-null    float64\n",
      " 7   dis      506 non-null    float64\n",
      " 8   rad      506 non-null    int64  \n",
      " 9   tax      506 non-null    int64  \n",
      " 10  ptratio  506 non-null    float64\n",
      " 11  b        506 non-null    float64\n",
      " 12  lstat    506 non-null    float64\n",
      " 13  medv     506 non-null    float64\n",
      "dtypes: float64(11), int64(3)\n",
      "memory usage: 55.5 KB\n"
     ]
    }
   ],
   "source": [
    "housing.info() #Rápida descrição dos dados"
   ]
  },
  {
   "cell_type": "markdown",
   "metadata": {
    "id": "wzN0Y0kpK8CQ"
   },
   "source": [
    "As características (**features**) são as seguintes:\n",
    "\n",
    "\n",
    "1. crim: Taxa de crime per capita por cidade;\n",
    "\n",
    "2. zn: Proporção de terreno residencial zoneado para lotes com mais de 25.000 pés quadrados;\n",
    "\n",
    "3. indus: Proporção de acres de negócios não rentáveis por cidade; \n",
    "\n",
    "4. chas: Variável de Charles River (1 se a área limita o rio; 0 caso contrário);\n",
    "\n",
    "5. nox: Concentração de óxidos nítricos (parte por 10 milhões);\n",
    "\n",
    "6. rm: Número médio de quartos por habitação;\n",
    "\n",
    "7. age: Proporção de casas construídas antes de 1940;\n",
    "\n",
    "8. dis: Distâncias ponderadas para cinco centros de empregos de Boston;\n",
    "\n",
    "9. rad: Índice de acessibilidade a rodovias;\n",
    "\n",
    "10. tax: taxa de imposto de propriedade no valor total de $ \\$ 10.000 $;\n",
    "\n",
    "11. ptratio: Proporção aluno-professor por cidade;\n",
    "\n",
    "12. b: $1000(B_k - 0.63)^2$ onde $B_k$ é a proporção de negros por cidade;\n",
    "\n",
    "13. lstat:  percentual da população de classe baixa;\n",
    "\n",
    "14. medv: Valor médio das casas $\\times$ $\\$ 1.000$;"
   ]
  },
  {
   "cell_type": "markdown",
   "metadata": {
    "id": "ZZyjfvEmJBZk"
   },
   "source": [
    "Todos as características são numéricas."
   ]
  },
  {
   "cell_type": "markdown",
   "metadata": {
    "id": "b8TL_7-vJhCN"
   },
   "source": [
    "Vamos agora extrair algumas medidas resumo do nosso conjunto de dados."
   ]
  },
  {
   "cell_type": "code",
   "execution_count": 11,
   "metadata": {
    "colab": {
     "base_uri": "https://localhost:8080/",
     "height": 297
    },
    "id": "iUqXwjN_8Mxo",
    "outputId": "57737c8d-e11e-4e63-8e5b-5e4c3cbce6ac"
   },
   "outputs": [
    {
     "data": {
      "text/html": [
       "<div>\n",
       "<style scoped>\n",
       "    .dataframe tbody tr th:only-of-type {\n",
       "        vertical-align: middle;\n",
       "    }\n",
       "\n",
       "    .dataframe tbody tr th {\n",
       "        vertical-align: top;\n",
       "    }\n",
       "\n",
       "    .dataframe thead th {\n",
       "        text-align: right;\n",
       "    }\n",
       "</style>\n",
       "<table border=\"1\" class=\"dataframe\">\n",
       "  <thead>\n",
       "    <tr style=\"text-align: right;\">\n",
       "      <th></th>\n",
       "      <th>crim</th>\n",
       "      <th>zn</th>\n",
       "      <th>indus</th>\n",
       "      <th>chas</th>\n",
       "      <th>nox</th>\n",
       "      <th>rm</th>\n",
       "      <th>age</th>\n",
       "      <th>dis</th>\n",
       "      <th>rad</th>\n",
       "      <th>tax</th>\n",
       "      <th>ptratio</th>\n",
       "      <th>b</th>\n",
       "      <th>lstat</th>\n",
       "      <th>medv</th>\n",
       "    </tr>\n",
       "  </thead>\n",
       "  <tbody>\n",
       "    <tr>\n",
       "      <th>count</th>\n",
       "      <td>506.000000</td>\n",
       "      <td>506.000000</td>\n",
       "      <td>506.000000</td>\n",
       "      <td>506.000000</td>\n",
       "      <td>506.000000</td>\n",
       "      <td>506.000000</td>\n",
       "      <td>506.000000</td>\n",
       "      <td>506.000000</td>\n",
       "      <td>506.000000</td>\n",
       "      <td>506.000000</td>\n",
       "      <td>506.000000</td>\n",
       "      <td>506.000000</td>\n",
       "      <td>506.000000</td>\n",
       "      <td>506.000000</td>\n",
       "    </tr>\n",
       "    <tr>\n",
       "      <th>mean</th>\n",
       "      <td>3.613524</td>\n",
       "      <td>11.363636</td>\n",
       "      <td>11.136779</td>\n",
       "      <td>0.069170</td>\n",
       "      <td>0.554695</td>\n",
       "      <td>6.284634</td>\n",
       "      <td>68.574901</td>\n",
       "      <td>3.795043</td>\n",
       "      <td>9.549407</td>\n",
       "      <td>408.237154</td>\n",
       "      <td>18.455534</td>\n",
       "      <td>356.674032</td>\n",
       "      <td>12.653063</td>\n",
       "      <td>22.532806</td>\n",
       "    </tr>\n",
       "    <tr>\n",
       "      <th>std</th>\n",
       "      <td>8.601545</td>\n",
       "      <td>23.322453</td>\n",
       "      <td>6.860353</td>\n",
       "      <td>0.253994</td>\n",
       "      <td>0.115878</td>\n",
       "      <td>0.702617</td>\n",
       "      <td>28.148861</td>\n",
       "      <td>2.105710</td>\n",
       "      <td>8.707259</td>\n",
       "      <td>168.537116</td>\n",
       "      <td>2.164946</td>\n",
       "      <td>91.294864</td>\n",
       "      <td>7.141062</td>\n",
       "      <td>9.197104</td>\n",
       "    </tr>\n",
       "    <tr>\n",
       "      <th>min</th>\n",
       "      <td>0.006320</td>\n",
       "      <td>0.000000</td>\n",
       "      <td>0.460000</td>\n",
       "      <td>0.000000</td>\n",
       "      <td>0.385000</td>\n",
       "      <td>3.561000</td>\n",
       "      <td>2.900000</td>\n",
       "      <td>1.129600</td>\n",
       "      <td>1.000000</td>\n",
       "      <td>187.000000</td>\n",
       "      <td>12.600000</td>\n",
       "      <td>0.320000</td>\n",
       "      <td>1.730000</td>\n",
       "      <td>5.000000</td>\n",
       "    </tr>\n",
       "    <tr>\n",
       "      <th>25%</th>\n",
       "      <td>0.082045</td>\n",
       "      <td>0.000000</td>\n",
       "      <td>5.190000</td>\n",
       "      <td>0.000000</td>\n",
       "      <td>0.449000</td>\n",
       "      <td>5.885500</td>\n",
       "      <td>45.025000</td>\n",
       "      <td>2.100175</td>\n",
       "      <td>4.000000</td>\n",
       "      <td>279.000000</td>\n",
       "      <td>17.400000</td>\n",
       "      <td>375.377500</td>\n",
       "      <td>6.950000</td>\n",
       "      <td>17.025000</td>\n",
       "    </tr>\n",
       "    <tr>\n",
       "      <th>50%</th>\n",
       "      <td>0.256510</td>\n",
       "      <td>0.000000</td>\n",
       "      <td>9.690000</td>\n",
       "      <td>0.000000</td>\n",
       "      <td>0.538000</td>\n",
       "      <td>6.208500</td>\n",
       "      <td>77.500000</td>\n",
       "      <td>3.207450</td>\n",
       "      <td>5.000000</td>\n",
       "      <td>330.000000</td>\n",
       "      <td>19.050000</td>\n",
       "      <td>391.440000</td>\n",
       "      <td>11.360000</td>\n",
       "      <td>21.200000</td>\n",
       "    </tr>\n",
       "    <tr>\n",
       "      <th>75%</th>\n",
       "      <td>3.677082</td>\n",
       "      <td>12.500000</td>\n",
       "      <td>18.100000</td>\n",
       "      <td>0.000000</td>\n",
       "      <td>0.624000</td>\n",
       "      <td>6.623500</td>\n",
       "      <td>94.075000</td>\n",
       "      <td>5.188425</td>\n",
       "      <td>24.000000</td>\n",
       "      <td>666.000000</td>\n",
       "      <td>20.200000</td>\n",
       "      <td>396.225000</td>\n",
       "      <td>16.955000</td>\n",
       "      <td>25.000000</td>\n",
       "    </tr>\n",
       "    <tr>\n",
       "      <th>max</th>\n",
       "      <td>88.976200</td>\n",
       "      <td>100.000000</td>\n",
       "      <td>27.740000</td>\n",
       "      <td>1.000000</td>\n",
       "      <td>0.871000</td>\n",
       "      <td>8.780000</td>\n",
       "      <td>100.000000</td>\n",
       "      <td>12.126500</td>\n",
       "      <td>24.000000</td>\n",
       "      <td>711.000000</td>\n",
       "      <td>22.000000</td>\n",
       "      <td>396.900000</td>\n",
       "      <td>37.970000</td>\n",
       "      <td>50.000000</td>\n",
       "    </tr>\n",
       "  </tbody>\n",
       "</table>\n",
       "</div>"
      ],
      "text/plain": [
       "             crim          zn       indus        chas         nox          rm  \\\n",
       "count  506.000000  506.000000  506.000000  506.000000  506.000000  506.000000   \n",
       "mean     3.613524   11.363636   11.136779    0.069170    0.554695    6.284634   \n",
       "std      8.601545   23.322453    6.860353    0.253994    0.115878    0.702617   \n",
       "min      0.006320    0.000000    0.460000    0.000000    0.385000    3.561000   \n",
       "25%      0.082045    0.000000    5.190000    0.000000    0.449000    5.885500   \n",
       "50%      0.256510    0.000000    9.690000    0.000000    0.538000    6.208500   \n",
       "75%      3.677082   12.500000   18.100000    0.000000    0.624000    6.623500   \n",
       "max     88.976200  100.000000   27.740000    1.000000    0.871000    8.780000   \n",
       "\n",
       "              age         dis         rad         tax     ptratio           b  \\\n",
       "count  506.000000  506.000000  506.000000  506.000000  506.000000  506.000000   \n",
       "mean    68.574901    3.795043    9.549407  408.237154   18.455534  356.674032   \n",
       "std     28.148861    2.105710    8.707259  168.537116    2.164946   91.294864   \n",
       "min      2.900000    1.129600    1.000000  187.000000   12.600000    0.320000   \n",
       "25%     45.025000    2.100175    4.000000  279.000000   17.400000  375.377500   \n",
       "50%     77.500000    3.207450    5.000000  330.000000   19.050000  391.440000   \n",
       "75%     94.075000    5.188425   24.000000  666.000000   20.200000  396.225000   \n",
       "max    100.000000   12.126500   24.000000  711.000000   22.000000  396.900000   \n",
       "\n",
       "            lstat        medv  \n",
       "count  506.000000  506.000000  \n",
       "mean    12.653063   22.532806  \n",
       "std      7.141062    9.197104  \n",
       "min      1.730000    5.000000  \n",
       "25%      6.950000   17.025000  \n",
       "50%     11.360000   21.200000  \n",
       "75%     16.955000   25.000000  \n",
       "max     37.970000   50.000000  "
      ]
     },
     "execution_count": 11,
     "metadata": {},
     "output_type": "execute_result"
    }
   ],
   "source": [
    "housing.describe() #Medidas resumo"
   ]
  },
  {
   "cell_type": "markdown",
   "metadata": {
    "id": "x2QW6q9C9GAG"
   },
   "source": [
    "Alguns histogramas também são úteis para compreender o problema"
   ]
  },
  {
   "cell_type": "code",
   "execution_count": 12,
   "metadata": {
    "colab": {
     "base_uri": "https://localhost:8080/",
     "height": 879
    },
    "id": "qaNOxfbs8Mxv",
    "outputId": "ab4f2a2c-7cb6-4b8f-b07b-5f3169db9cd9"
   },
   "outputs": [
    {
     "data": {
      "image/png": "[encoded data removed]",
      "text/plain": [
       "<Figure size 1440x1080 with 16 Axes>"
      ]
     },
     "metadata": {
      "needs_background": "light"
     },
     "output_type": "display_data"
    }
   ],
   "source": [
    "%matplotlib inline\n",
    "import matplotlib.pyplot as plt\n",
    "housing.hist(bins=50, figsize=(20,15))\n",
    "plt.show()"
   ]
  },
  {
   "cell_type": "markdown",
   "metadata": {
    "id": "R4F7JWQ1BcEY"
   },
   "source": [
    "#Separando o conjunto de dados"
   ]
  },
  {
   "cell_type": "markdown",
   "metadata": {
    "id": "NlJskFrg9RRV"
   },
   "source": [
    "Se quisermos utilizar um conjunto de teste para realizar uma estimativa \"não enviesada\" do modelo final é importante já separarmos o conjunto de treino e teste desde já.\n",
    "\n",
    "Observa que a função train_test_split implentada no scikit-learn tem como padrão shuffle = True. Isto quer dizer que ele irá embaralhar os dados e então fara a divisão do conjunto de dados em treino e teste. \n",
    "\n",
    "É importante que os dados sejam embaralhados pois é comum que exista algum tipo de ordenação nos dados, de forma que se você não embaralhar os dados estará introduzindo tendencias ou vieses que não existem nos dados reais. </font>\n"
   ]
  },
  {
   "cell_type": "code",
   "execution_count": 13,
   "metadata": {
    "id": "KFwcG5uQ8Myy"
   },
   "outputs": [],
   "source": [
    "from sklearn.model_selection import train_test_split\n",
    "\n",
    "train_set, test_set = train_test_split(housing, \n",
    "                                       test_size=0.2, #20% para teste\n",
    "                                       random_state=seed)"
   ]
  },
  {
   "cell_type": "markdown",
   "metadata": {
    "id": "nt4Qyw_sGrHT"
   },
   "source": [
    "Essa divisão no conjunto de dados é até então puramente aleatória. Será que esse tipo de divisão é a mais indicada?\n",
    "\n",
    "Vejamos novamente as medidas resumo da porcentagem da população de baixa renda:"
   ]
  },
  {
   "cell_type": "code",
   "execution_count": 25,
   "metadata": {
    "colab": {
     "base_uri": "https://localhost:8080/"
    },
    "id": "YQIbYlWULvGo",
    "outputId": "9e4df70d-5514-4fb5-8d68-a1dbbe6a9d16"
   },
   "outputs": [
    {
     "data": {
      "text/plain": [
       "count    506.000000\n",
       "mean     408.237154\n",
       "std      168.537116\n",
       "min      187.000000\n",
       "25%      279.000000\n",
       "50%      330.000000\n",
       "75%      666.000000\n",
       "max      711.000000\n",
       "Name: tax, dtype: float64"
      ]
     },
     "execution_count": 25,
     "metadata": {},
     "output_type": "execute_result"
    }
   ],
   "source": [
    "housing[\"tax\"].describe()"
   ]
  },
  {
   "cell_type": "code",
   "execution_count": 24,
   "metadata": {
    "id": "03822zBOK9ss"
   },
   "outputs": [],
   "source": [
    "mean = np.mean(housing[\"tax\"])\n",
    "std = np.std(housing[\"tax\"])"
   ]
  },
  {
   "cell_type": "markdown",
   "metadata": {
    "id": "jGNLaRDmQX1d"
   },
   "source": [
    "Lembrando que \"tax\" é o imposto sobre a propriedade em determinado bairro a cada 10000 dólares.\n"
   ]
  },
  {
   "cell_type": "markdown",
   "metadata": {
    "id": "Ux8EH3u8Ip6k"
   },
   "source": [
    "Vamos dividir este impostoa em 5 estratos, de 225 em 225 doláres a cada 10000 dólares. Não há nenhuma mágica nessa escolha, senão a questão da facilidade. O correto seria, mais uma vez, usar informações sociais discutidas com o estatístico\n",
    "\n",
    "Faremos isso criando uma nova feature no nosso dataset. Esse processo de criar novas categorias a partir do conhecimento do problema é chamado de **feature engineering** e abordaremos melhor mais à frente no nosso projeto."
   ]
  },
  {
   "cell_type": "code",
   "execution_count": 27,
   "metadata": {
    "colab": {
     "base_uri": "https://localhost:8080/",
     "height": 282
    },
    "id": "IKwkmUlbOjWi",
    "outputId": "8ad5eae6-f008-4c61-991b-41b21912572d"
   },
   "outputs": [
    {
     "data": {
      "text/plain": [
       "<matplotlib.axes._subplots.AxesSubplot at 0x1c23947dfd0>"
      ]
     },
     "execution_count": 27,
     "metadata": {},
     "output_type": "execute_result"
    },
    {
     "data": {
      "image/png": "[encoded data removed]",
      "text/plain": [
       "<Figure size 432x288 with 1 Axes>"
      ]
     },
     "metadata": {
      "needs_background": "light"
     },
     "output_type": "display_data"
    }
   ],
   "source": [
    "housing[\"tax_cat\"] = pd.cut(housing[\"tax\"],\n",
    "                               bins=[0., 225.0, 450.0, 675.0, 900.0, np.inf],\n",
    "                               labels=[1, 2, 3, 4, 5])\n",
    "\n",
    "housing[\"tax_cat\"].hist()"
   ]
  },
  {
   "cell_type": "code",
   "execution_count": 28,
   "metadata": {
    "colab": {
     "base_uri": "https://localhost:8080/"
    },
    "id": "NuMgAShs8MzJ",
    "outputId": "34b3bc66-bee1-4133-9031-7670386dd7f3",
    "scrolled": true
   },
   "outputs": [
    {
     "data": {
      "text/plain": [
       "2    324\n",
       "3    133\n",
       "1     44\n",
       "4      5\n",
       "5      0\n",
       "Name: tax_cat, dtype: int64"
      ]
     },
     "execution_count": 28,
     "metadata": {},
     "output_type": "execute_result"
    }
   ],
   "source": [
    "housing[\"tax_cat\"].value_counts()"
   ]
  },
  {
   "cell_type": "markdown",
   "metadata": {
    "id": "vwYnXUa7TK0c"
   },
   "source": [
    "Pronto! Agora vamos fazer uma <font color='red'>amostragem estratificada</font> com base nas categorias da renda.  "
   ]
  },
  {
   "cell_type": "code",
   "execution_count": 29,
   "metadata": {
    "id": "przR0ZBZ8MzT"
   },
   "outputs": [],
   "source": [
    "from sklearn.model_selection import StratifiedShuffleSplit\n",
    "\n",
    "split = StratifiedShuffleSplit(n_splits=1, test_size=0.2, random_state=seed)\n",
    "\n",
    "for train_index, test_index in split.split(housing, housing[\"tax_cat\"]):\n",
    "    strat_train_set = housing.loc[train_index]\n",
    "    strat_test_set = housing.loc[test_index]"
   ]
  },
  {
   "cell_type": "markdown",
   "metadata": {
    "id": "Vi9Gp_QbTwFi"
   },
   "source": [
    "Acabamos de criar novos conjuntos de treino e de teste, que chamamos de <font color='red'>strat_train_set </font> e <font color='blue'>strat_test_set</font>.\n",
    "\n",
    " Estes conjuntos devem respeitar a estratificação que introduzimos baseada em \"tax\" representado na nova variável categórica \"tax_cat\".\n",
    "\n",
    " Vejamos se funcionou:"
   ]
  },
  {
   "cell_type": "code",
   "execution_count": 30,
   "metadata": {
    "colab": {
     "base_uri": "https://localhost:8080/"
    },
    "id": "LQb_sNWO8MzW",
    "outputId": "773d7e87-550f-45b3-98e8-cc9a791832f4"
   },
   "outputs": [
    {
     "data": {
      "text/plain": [
       "2    0.637255\n",
       "3    0.264706\n",
       "1    0.088235\n",
       "4    0.009804\n",
       "5    0.000000\n",
       "Name: tax_cat, dtype: float64"
      ]
     },
     "execution_count": 30,
     "metadata": {},
     "output_type": "execute_result"
    }
   ],
   "source": [
    "strat_test_set[\"tax_cat\"].value_counts() / len(strat_test_set) #Proporção de cada categoria em strat_test_set"
   ]
  },
  {
   "cell_type": "code",
   "execution_count": 31,
   "metadata": {
    "colab": {
     "base_uri": "https://localhost:8080/"
    },
    "id": "t9att4KJX-91",
    "outputId": "c9fe42d7-bd96-4e92-d3b7-a1ab91122681"
   },
   "outputs": [
    {
     "data": {
      "text/plain": [
       "2    0.640316\n",
       "3    0.262846\n",
       "1    0.086957\n",
       "4    0.009881\n",
       "5    0.000000\n",
       "Name: tax_cat, dtype: float64"
      ]
     },
     "execution_count": 31,
     "metadata": {},
     "output_type": "execute_result"
    }
   ],
   "source": [
    "housing[\"tax_cat\"].value_counts() / len(housing) #Proporção de cada categoria em housing"
   ]
  },
  {
   "cell_type": "markdown",
   "metadata": {
    "id": "nHr7e4IUYc9K"
   },
   "source": [
    "Podemos agora comparar com a <font color='blue'> amostragem aleatória </font>:"
   ]
  },
  {
   "cell_type": "code",
   "execution_count": 32,
   "metadata": {
    "id": "kcQ8FM-u8Mzi"
   },
   "outputs": [],
   "source": [
    "#Função para calcular as proporções das categorias da característica \"income_cat\"\n",
    "def income_cat_proportions(data): \n",
    "    return data[\"tax_cat\"].value_counts() / len(data)"
   ]
  },
  {
   "cell_type": "markdown",
   "metadata": {
    "id": "yVQi0BkJZi6U"
   },
   "source": [
    "Agora vamos gerar novamente conjunto de teste e treino, mas usando amostragem aleatória."
   ]
  },
  {
   "cell_type": "code",
   "execution_count": 33,
   "metadata": {
    "id": "c0jyVWH8ZiBM"
   },
   "outputs": [],
   "source": [
    "train_set, test_set = train_test_split(housing, test_size=0.2, random_state=seed)"
   ]
  },
  {
   "cell_type": "markdown",
   "metadata": {
    "id": "AD0M3hAwZx87"
   },
   "source": [
    "Vamos criar o nosso novo dataframe e visualizar os resultados:"
   ]
  },
  {
   "cell_type": "code",
   "execution_count": 34,
   "metadata": {
    "colab": {
     "base_uri": "https://localhost:8080/",
     "height": 204
    },
    "id": "C-RIbMERZxOt",
    "outputId": "d0d11155-4643-46cd-e2d6-49fbb6f20e5e"
   },
   "outputs": [
    {
     "data": {
      "text/html": [
       "<div>\n",
       "<style scoped>\n",
       "    .dataframe tbody tr th:only-of-type {\n",
       "        vertical-align: middle;\n",
       "    }\n",
       "\n",
       "    .dataframe tbody tr th {\n",
       "        vertical-align: top;\n",
       "    }\n",
       "\n",
       "    .dataframe thead th {\n",
       "        text-align: right;\n",
       "    }\n",
       "</style>\n",
       "<table border=\"1\" class=\"dataframe\">\n",
       "  <thead>\n",
       "    <tr style=\"text-align: right;\">\n",
       "      <th></th>\n",
       "      <th>Geral</th>\n",
       "      <th>Estratificado</th>\n",
       "      <th>Aleatorio</th>\n",
       "      <th>Aleatório %erro</th>\n",
       "      <th>Estratificado %erro</th>\n",
       "    </tr>\n",
       "  </thead>\n",
       "  <tbody>\n",
       "    <tr>\n",
       "      <th>1</th>\n",
       "      <td>0.086957</td>\n",
       "      <td>0.088235</td>\n",
       "      <td>0.068627</td>\n",
       "      <td>-21.078431</td>\n",
       "      <td>1.470588</td>\n",
       "    </tr>\n",
       "    <tr>\n",
       "      <th>2</th>\n",
       "      <td>0.640316</td>\n",
       "      <td>0.637255</td>\n",
       "      <td>0.607843</td>\n",
       "      <td>-5.071411</td>\n",
       "      <td>-0.478092</td>\n",
       "    </tr>\n",
       "    <tr>\n",
       "      <th>3</th>\n",
       "      <td>0.262846</td>\n",
       "      <td>0.264706</td>\n",
       "      <td>0.303922</td>\n",
       "      <td>15.627304</td>\n",
       "      <td>0.707651</td>\n",
       "    </tr>\n",
       "    <tr>\n",
       "      <th>4</th>\n",
       "      <td>0.009881</td>\n",
       "      <td>0.009804</td>\n",
       "      <td>0.019608</td>\n",
       "      <td>98.431373</td>\n",
       "      <td>-0.784314</td>\n",
       "    </tr>\n",
       "    <tr>\n",
       "      <th>5</th>\n",
       "      <td>0.000000</td>\n",
       "      <td>0.000000</td>\n",
       "      <td>0.000000</td>\n",
       "      <td>NaN</td>\n",
       "      <td>NaN</td>\n",
       "    </tr>\n",
       "  </tbody>\n",
       "</table>\n",
       "</div>"
      ],
      "text/plain": [
       "      Geral  Estratificado  Aleatorio  Aleatório %erro  Estratificado %erro\n",
       "1  0.086957       0.088235   0.068627       -21.078431             1.470588\n",
       "2  0.640316       0.637255   0.607843        -5.071411            -0.478092\n",
       "3  0.262846       0.264706   0.303922        15.627304             0.707651\n",
       "4  0.009881       0.009804   0.019608        98.431373            -0.784314\n",
       "5  0.000000       0.000000   0.000000              NaN                  NaN"
      ]
     },
     "execution_count": 34,
     "metadata": {},
     "output_type": "execute_result"
    }
   ],
   "source": [
    "compare_props = pd.DataFrame({\n",
    "    \"Geral\": income_cat_proportions(housing),\n",
    "    \"Estratificado\": income_cat_proportions(strat_test_set),\n",
    "    \"Aleatorio\": income_cat_proportions(test_set),\n",
    "}).sort_index()\n",
    "\n",
    "compare_props[\"Aleatório %erro\"] = 100 * compare_props[\"Aleatorio\"] / compare_props[\"Geral\"] - 100\n",
    "compare_props[\"Estratificado %erro\"] = 100 * compare_props[\"Estratificado\"] / compare_props[\"Geral\"] - 100\n",
    "\n",
    "compare_props"
   ]
  },
  {
   "cell_type": "markdown",
   "metadata": {
    "id": "NFX8Ha0pao_z"
   },
   "source": [
    "Contentes com os resultados, não podemos esquecer de <font color='red'>remover</font> o atributo \"tax_cat\" dos conjuntos strat_train_set e strat_test_set. Na verdade, ele era apenas um intermediário, afinal de contas as informações dessa caracaterísticas já estão presentes em \"tax\"."
   ]
  },
  {
   "cell_type": "code",
   "execution_count": 35,
   "metadata": {
    "id": "MbPa45jL8Mzq"
   },
   "outputs": [],
   "source": [
    "for set_ in (strat_train_set, strat_test_set):\n",
    "    set_.drop(\"income_cat\", axis=1, inplace=True)"
   ]
  },
  {
   "cell_type": "markdown",
   "metadata": {
    "id": "TYST0JOP8Mzu"
   },
   "source": [
    "# Visualização da estrutura de dados"
   ]
  },
  {
   "cell_type": "markdown",
   "metadata": {
    "id": "Dws-HQeEc3h0"
   },
   "source": [
    "Vamos agora visualizar os nossos dados. Precisamos ter certeza que não vamos visualizar dados do conjunto de teste, para evitar enviesamento de conclusões. \n",
    "\n",
    "De um ponto de vista mais técnico, devemos evitar o **snooping bias**."
   ]
  },
  {
   "cell_type": "code",
   "execution_count": 36,
   "metadata": {
    "id": "uGYSWxqk8Mzv"
   },
   "outputs": [],
   "source": [
    "housing = strat_train_set.copy() #Importante criar uma cópia! "
   ]
  },
  {
   "cell_type": "code",
   "execution_count": 46,
   "metadata": {
    "colab": {
     "base_uri": "https://localhost:8080/",
     "height": 296
    },
    "id": "U1YxuAEV8Mzz",
    "outputId": "a158f1d9-f4d8-4d23-b153-ce93c66b518c"
   },
   "outputs": [
    {
     "data": {
      "text/plain": [
       "<matplotlib.axes._subplots.AxesSubplot at 0x1c2392065b0>"
      ]
     },
     "execution_count": 46,
     "metadata": {},
     "output_type": "execute_result"
    },
    {
     "data": {
      "image/png": "[encoded data removed]",
      "text/plain": [
       "<Figure size 432x288 with 1 Axes>"
      ]
     },
     "metadata": {
      "needs_background": "light"
     },
     "output_type": "display_data"
    }
   ],
   "source": [
    "housing.plot(kind=\"scatter\", x=\"dis\", y=\"medv\")"
   ]
  },
  {
   "cell_type": "markdown",
   "metadata": {
    "id": "WjTUHRQYdcME"
   },
   "source": [
    "Vamos melhorar a visualição usando o parâmetro <font color='red'>alpha</font>, observe:"
   ]
  },
  {
   "cell_type": "code",
   "execution_count": 39,
   "metadata": {
    "colab": {
     "base_uri": "https://localhost:8080/",
     "height": 296
    },
    "id": "I6pNMSKy8Mz4",
    "outputId": "db4d2860-1c31-45d1-f4b6-82374eeef0d4"
   },
   "outputs": [
    {
     "data": {
      "text/plain": [
       "<matplotlib.axes._subplots.AxesSubplot at 0x1c239287ca0>"
      ]
     },
     "execution_count": 39,
     "metadata": {},
     "output_type": "execute_result"
    },
    {
     "data": {
      "image/png": "[encoded data removed]",
      "text/plain": [
       "<Figure size 432x288 with 1 Axes>"
      ]
     },
     "metadata": {
      "needs_background": "light"
     },
     "output_type": "display_data"
    }
   ],
   "source": [
    "housing.plot(kind=\"scatter\", x=\"dis\", y=\"medv\", alpha=0.3)"
   ]
  },
  {
   "cell_type": "markdown",
   "metadata": {
    "id": "dnWgQnQ2dxJ4"
   },
   "source": [
    "Interessante! Agora fica mais evidente a concentração dos agrupamentos!\n",
    "\n",
    "De qualquer forma devemos voltar a nossa atenção ao objetivo: <font color = 'red'> preços do setor imobioliário. </font> \n",
    "\n",
    "No código a seguir o parâmetro \"s\" significa \"size\", tamanho em inglês. Escolhendo \"s\" como sendo a característica população, quanto maior o disco representa uma população maior.\n",
    "\n",
    "O parâmetro \"c\" significa \"color\", ou cor. Esse é na verdade o que queremos saber!\n",
    "\n",
    "O paramêtro colorbar = True indica que queremos visualizar a barra lateral informando as intensidades da cor, ou seja, do parêmetro \"c\".\n",
    "\n"
   ]
  },
  {
   "cell_type": "code",
   "execution_count": 41,
   "metadata": {
    "colab": {
     "base_uri": "https://localhost:8080/",
     "height": 463
    },
    "id": "uo34qLzu8Mz8",
    "outputId": "4e615d13-59fc-4960-d47f-9ebdf9ac8ee4"
   },
   "outputs": [
    {
     "name": "stderr",
     "output_type": "stream",
     "text": [
      "No handles with labels found to put in legend.\n"
     ]
    },
    {
     "data": {
      "text/plain": [
       "<matplotlib.legend.Legend at 0x1c2392406d0>"
      ]
     },
     "execution_count": 41,
     "metadata": {},
     "output_type": "execute_result"
    },
    {
     "data": {
      "image/png": "[encoded data removed]",
      "text/plain": [
       "<Figure size 432x288 with 2 Axes>"
      ]
     },
     "metadata": {
      "needs_background": "light"
     },
     "output_type": "display_data"
    }
   ],
   "source": [
    "housing.plot(kind=\"scatter\", x=\"dis\", y=\"rm\", alpha=0.4,\n",
    "    c=\"medv\", cmap=plt.get_cmap(\"jet\"), colorbar=True,\n",
    "    sharex=False) #sharex=false é só pra corrigir um bug de display https://github.com/pandas-dev/pandas/issues/10611\n",
    "plt.legend()"
   ]
  },
  {
   "cell_type": "markdown",
   "metadata": {
    "id": "gjuu3hmPmO3I"
   },
   "source": [
    "A visulização dos dados indicam que quanto mais quartos e quanto mais próximos dos centros economicos da cidade, maior o valor da casa.\n",
    "\n",
    "Vamos então investigar essas hipóteses através da correleção estatística:"
   ]
  },
  {
   "cell_type": "code",
   "execution_count": 42,
   "metadata": {
    "id": "fWwTwI_D8M0E"
   },
   "outputs": [],
   "source": [
    "corr_matrix = housing.corr() #Matriz de correlações"
   ]
  },
  {
   "cell_type": "code",
   "execution_count": 43,
   "metadata": {
    "colab": {
     "base_uri": "https://localhost:8080/",
     "height": 328
    },
    "id": "R50hJi6Sm0Ix",
    "outputId": "bc03fda4-86be-402e-dde9-8106f4d654c4"
   },
   "outputs": [
    {
     "data": {
      "text/html": [
       "<div>\n",
       "<style scoped>\n",
       "    .dataframe tbody tr th:only-of-type {\n",
       "        vertical-align: middle;\n",
       "    }\n",
       "\n",
       "    .dataframe tbody tr th {\n",
       "        vertical-align: top;\n",
       "    }\n",
       "\n",
       "    .dataframe thead th {\n",
       "        text-align: right;\n",
       "    }\n",
       "</style>\n",
       "<table border=\"1\" class=\"dataframe\">\n",
       "  <thead>\n",
       "    <tr style=\"text-align: right;\">\n",
       "      <th></th>\n",
       "      <th>crim</th>\n",
       "      <th>zn</th>\n",
       "      <th>indus</th>\n",
       "      <th>chas</th>\n",
       "      <th>nox</th>\n",
       "      <th>rm</th>\n",
       "      <th>age</th>\n",
       "      <th>dis</th>\n",
       "      <th>rad</th>\n",
       "      <th>tax</th>\n",
       "      <th>ptratio</th>\n",
       "      <th>b</th>\n",
       "      <th>lstat</th>\n",
       "      <th>medv</th>\n",
       "    </tr>\n",
       "  </thead>\n",
       "  <tbody>\n",
       "    <tr>\n",
       "      <th>crim</th>\n",
       "      <td>1.000000</td>\n",
       "      <td>-0.194957</td>\n",
       "      <td>0.392266</td>\n",
       "      <td>-0.048422</td>\n",
       "      <td>0.408961</td>\n",
       "      <td>-0.178687</td>\n",
       "      <td>0.339665</td>\n",
       "      <td>-0.367939</td>\n",
       "      <td>0.612325</td>\n",
       "      <td>0.568313</td>\n",
       "      <td>0.273532</td>\n",
       "      <td>-0.415846</td>\n",
       "      <td>0.434491</td>\n",
       "      <td>-0.363637</td>\n",
       "    </tr>\n",
       "    <tr>\n",
       "      <th>zn</th>\n",
       "      <td>-0.194957</td>\n",
       "      <td>1.000000</td>\n",
       "      <td>-0.540184</td>\n",
       "      <td>-0.012799</td>\n",
       "      <td>-0.519403</td>\n",
       "      <td>0.303859</td>\n",
       "      <td>-0.571245</td>\n",
       "      <td>0.659137</td>\n",
       "      <td>-0.313429</td>\n",
       "      <td>-0.306750</td>\n",
       "      <td>-0.386411</td>\n",
       "      <td>0.179353</td>\n",
       "      <td>-0.404500</td>\n",
       "      <td>0.352369</td>\n",
       "    </tr>\n",
       "    <tr>\n",
       "      <th>indus</th>\n",
       "      <td>0.392266</td>\n",
       "      <td>-0.540184</td>\n",
       "      <td>1.000000</td>\n",
       "      <td>0.078490</td>\n",
       "      <td>0.766313</td>\n",
       "      <td>-0.375957</td>\n",
       "      <td>0.640592</td>\n",
       "      <td>-0.711485</td>\n",
       "      <td>0.590137</td>\n",
       "      <td>0.718778</td>\n",
       "      <td>0.369861</td>\n",
       "      <td>-0.358921</td>\n",
       "      <td>0.575379</td>\n",
       "      <td>-0.460246</td>\n",
       "    </tr>\n",
       "    <tr>\n",
       "      <th>chas</th>\n",
       "      <td>-0.048422</td>\n",
       "      <td>-0.012799</td>\n",
       "      <td>0.078490</td>\n",
       "      <td>1.000000</td>\n",
       "      <td>0.108753</td>\n",
       "      <td>0.126399</td>\n",
       "      <td>0.068416</td>\n",
       "      <td>-0.101227</td>\n",
       "      <td>0.005951</td>\n",
       "      <td>-0.022082</td>\n",
       "      <td>-0.134554</td>\n",
       "      <td>0.041958</td>\n",
       "      <td>-0.092712</td>\n",
       "      <td>0.185990</td>\n",
       "    </tr>\n",
       "    <tr>\n",
       "      <th>nox</th>\n",
       "      <td>0.408961</td>\n",
       "      <td>-0.519403</td>\n",
       "      <td>0.766313</td>\n",
       "      <td>0.108753</td>\n",
       "      <td>1.000000</td>\n",
       "      <td>-0.285392</td>\n",
       "      <td>0.725995</td>\n",
       "      <td>-0.768525</td>\n",
       "      <td>0.623017</td>\n",
       "      <td>0.672634</td>\n",
       "      <td>0.184591</td>\n",
       "      <td>-0.395422</td>\n",
       "      <td>0.576268</td>\n",
       "      <td>-0.408862</td>\n",
       "    </tr>\n",
       "    <tr>\n",
       "      <th>rm</th>\n",
       "      <td>-0.178687</td>\n",
       "      <td>0.303859</td>\n",
       "      <td>-0.375957</td>\n",
       "      <td>0.126399</td>\n",
       "      <td>-0.285392</td>\n",
       "      <td>1.000000</td>\n",
       "      <td>-0.219642</td>\n",
       "      <td>0.174360</td>\n",
       "      <td>-0.192591</td>\n",
       "      <td>-0.276042</td>\n",
       "      <td>-0.357854</td>\n",
       "      <td>0.131793</td>\n",
       "      <td>-0.589431</td>\n",
       "      <td>0.695048</td>\n",
       "    </tr>\n",
       "    <tr>\n",
       "      <th>age</th>\n",
       "      <td>0.339665</td>\n",
       "      <td>-0.571245</td>\n",
       "      <td>0.640592</td>\n",
       "      <td>0.068416</td>\n",
       "      <td>0.725995</td>\n",
       "      <td>-0.219642</td>\n",
       "      <td>1.000000</td>\n",
       "      <td>-0.739171</td>\n",
       "      <td>0.443868</td>\n",
       "      <td>0.492209</td>\n",
       "      <td>0.250594</td>\n",
       "      <td>-0.282567</td>\n",
       "      <td>0.587437</td>\n",
       "      <td>-0.360642</td>\n",
       "    </tr>\n",
       "    <tr>\n",
       "      <th>dis</th>\n",
       "      <td>-0.367939</td>\n",
       "      <td>0.659137</td>\n",
       "      <td>-0.711485</td>\n",
       "      <td>-0.101227</td>\n",
       "      <td>-0.768525</td>\n",
       "      <td>0.174360</td>\n",
       "      <td>-0.739171</td>\n",
       "      <td>1.000000</td>\n",
       "      <td>-0.489867</td>\n",
       "      <td>-0.525680</td>\n",
       "      <td>-0.200163</td>\n",
       "      <td>0.295066</td>\n",
       "      <td>-0.462420</td>\n",
       "      <td>0.217843</td>\n",
       "    </tr>\n",
       "    <tr>\n",
       "      <th>rad</th>\n",
       "      <td>0.612325</td>\n",
       "      <td>-0.313429</td>\n",
       "      <td>0.590137</td>\n",
       "      <td>0.005951</td>\n",
       "      <td>0.623017</td>\n",
       "      <td>-0.192591</td>\n",
       "      <td>0.443868</td>\n",
       "      <td>-0.489867</td>\n",
       "      <td>1.000000</td>\n",
       "      <td>0.906720</td>\n",
       "      <td>0.453401</td>\n",
       "      <td>-0.455530</td>\n",
       "      <td>0.484334</td>\n",
       "      <td>-0.368311</td>\n",
       "    </tr>\n",
       "    <tr>\n",
       "      <th>tax</th>\n",
       "      <td>0.568313</td>\n",
       "      <td>-0.306750</td>\n",
       "      <td>0.718778</td>\n",
       "      <td>-0.022082</td>\n",
       "      <td>0.672634</td>\n",
       "      <td>-0.276042</td>\n",
       "      <td>0.492209</td>\n",
       "      <td>-0.525680</td>\n",
       "      <td>0.906720</td>\n",
       "      <td>1.000000</td>\n",
       "      <td>0.443338</td>\n",
       "      <td>-0.452548</td>\n",
       "      <td>0.537526</td>\n",
       "      <td>-0.451597</td>\n",
       "    </tr>\n",
       "    <tr>\n",
       "      <th>ptratio</th>\n",
       "      <td>0.273532</td>\n",
       "      <td>-0.386411</td>\n",
       "      <td>0.369861</td>\n",
       "      <td>-0.134554</td>\n",
       "      <td>0.184591</td>\n",
       "      <td>-0.357854</td>\n",
       "      <td>0.250594</td>\n",
       "      <td>-0.200163</td>\n",
       "      <td>0.453401</td>\n",
       "      <td>0.443338</td>\n",
       "      <td>1.000000</td>\n",
       "      <td>-0.178097</td>\n",
       "      <td>0.369928</td>\n",
       "      <td>-0.517646</td>\n",
       "    </tr>\n",
       "    <tr>\n",
       "      <th>b</th>\n",
       "      <td>-0.415846</td>\n",
       "      <td>0.179353</td>\n",
       "      <td>-0.358921</td>\n",
       "      <td>0.041958</td>\n",
       "      <td>-0.395422</td>\n",
       "      <td>0.131793</td>\n",
       "      <td>-0.282567</td>\n",
       "      <td>0.295066</td>\n",
       "      <td>-0.455530</td>\n",
       "      <td>-0.452548</td>\n",
       "      <td>-0.178097</td>\n",
       "      <td>1.000000</td>\n",
       "      <td>-0.368459</td>\n",
       "      <td>0.339883</td>\n",
       "    </tr>\n",
       "    <tr>\n",
       "      <th>lstat</th>\n",
       "      <td>0.434491</td>\n",
       "      <td>-0.404500</td>\n",
       "      <td>0.575379</td>\n",
       "      <td>-0.092712</td>\n",
       "      <td>0.576268</td>\n",
       "      <td>-0.589431</td>\n",
       "      <td>0.587437</td>\n",
       "      <td>-0.462420</td>\n",
       "      <td>0.484334</td>\n",
       "      <td>0.537526</td>\n",
       "      <td>0.369928</td>\n",
       "      <td>-0.368459</td>\n",
       "      <td>1.000000</td>\n",
       "      <td>-0.735877</td>\n",
       "    </tr>\n",
       "    <tr>\n",
       "      <th>medv</th>\n",
       "      <td>-0.363637</td>\n",
       "      <td>0.352369</td>\n",
       "      <td>-0.460246</td>\n",
       "      <td>0.185990</td>\n",
       "      <td>-0.408862</td>\n",
       "      <td>0.695048</td>\n",
       "      <td>-0.360642</td>\n",
       "      <td>0.217843</td>\n",
       "      <td>-0.368311</td>\n",
       "      <td>-0.451597</td>\n",
       "      <td>-0.517646</td>\n",
       "      <td>0.339883</td>\n",
       "      <td>-0.735877</td>\n",
       "      <td>1.000000</td>\n",
       "    </tr>\n",
       "  </tbody>\n",
       "</table>\n",
       "</div>"
      ],
      "text/plain": [
       "             crim        zn     indus      chas       nox        rm       age  \\\n",
       "crim     1.000000 -0.194957  0.392266 -0.048422  0.408961 -0.178687  0.339665   \n",
       "zn      -0.194957  1.000000 -0.540184 -0.012799 -0.519403  0.303859 -0.571245   \n",
       "indus    0.392266 -0.540184  1.000000  0.078490  0.766313 -0.375957  0.640592   \n",
       "chas    -0.048422 -0.012799  0.078490  1.000000  0.108753  0.126399  0.068416   \n",
       "nox      0.408961 -0.519403  0.766313  0.108753  1.000000 -0.285392  0.725995   \n",
       "rm      -0.178687  0.303859 -0.375957  0.126399 -0.285392  1.000000 -0.219642   \n",
       "age      0.339665 -0.571245  0.640592  0.068416  0.725995 -0.219642  1.000000   \n",
       "dis     -0.367939  0.659137 -0.711485 -0.101227 -0.768525  0.174360 -0.739171   \n",
       "rad      0.612325 -0.313429  0.590137  0.005951  0.623017 -0.192591  0.443868   \n",
       "tax      0.568313 -0.306750  0.718778 -0.022082  0.672634 -0.276042  0.492209   \n",
       "ptratio  0.273532 -0.386411  0.369861 -0.134554  0.184591 -0.357854  0.250594   \n",
       "b       -0.415846  0.179353 -0.358921  0.041958 -0.395422  0.131793 -0.282567   \n",
       "lstat    0.434491 -0.404500  0.575379 -0.092712  0.576268 -0.589431  0.587437   \n",
       "medv    -0.363637  0.352369 -0.460246  0.185990 -0.408862  0.695048 -0.360642   \n",
       "\n",
       "              dis       rad       tax   ptratio         b     lstat      medv  \n",
       "crim    -0.367939  0.612325  0.568313  0.273532 -0.415846  0.434491 -0.363637  \n",
       "zn       0.659137 -0.313429 -0.306750 -0.386411  0.179353 -0.404500  0.352369  \n",
       "indus   -0.711485  0.590137  0.718778  0.369861 -0.358921  0.575379 -0.460246  \n",
       "chas    -0.101227  0.005951 -0.022082 -0.134554  0.041958 -0.092712  0.185990  \n",
       "nox     -0.768525  0.623017  0.672634  0.184591 -0.395422  0.576268 -0.408862  \n",
       "rm       0.174360 -0.192591 -0.276042 -0.357854  0.131793 -0.589431  0.695048  \n",
       "age     -0.739171  0.443868  0.492209  0.250594 -0.282567  0.587437 -0.360642  \n",
       "dis      1.000000 -0.489867 -0.525680 -0.200163  0.295066 -0.462420  0.217843  \n",
       "rad     -0.489867  1.000000  0.906720  0.453401 -0.455530  0.484334 -0.368311  \n",
       "tax     -0.525680  0.906720  1.000000  0.443338 -0.452548  0.537526 -0.451597  \n",
       "ptratio -0.200163  0.453401  0.443338  1.000000 -0.178097  0.369928 -0.517646  \n",
       "b        0.295066 -0.455530 -0.452548 -0.178097  1.000000 -0.368459  0.339883  \n",
       "lstat   -0.462420  0.484334  0.537526  0.369928 -0.368459  1.000000 -0.735877  \n",
       "medv     0.217843 -0.368311 -0.451597 -0.517646  0.339883 -0.735877  1.000000  "
      ]
     },
     "execution_count": 43,
     "metadata": {},
     "output_type": "execute_result"
    }
   ],
   "source": [
    "corr_matrix #vamos ver a estrutura"
   ]
  },
  {
   "cell_type": "code",
   "execution_count": 44,
   "metadata": {
    "colab": {
     "base_uri": "https://localhost:8080/"
    },
    "id": "eN1XZaZk8M0H",
    "outputId": "e41e0c6a-bd52-49a7-ba8b-0892732ded27"
   },
   "outputs": [
    {
     "data": {
      "text/plain": [
       "medv       1.000000\n",
       "rm         0.695048\n",
       "zn         0.352369\n",
       "b          0.339883\n",
       "dis        0.217843\n",
       "chas       0.185990\n",
       "age       -0.360642\n",
       "crim      -0.363637\n",
       "rad       -0.368311\n",
       "nox       -0.408862\n",
       "tax       -0.451597\n",
       "indus     -0.460246\n",
       "ptratio   -0.517646\n",
       "lstat     -0.735877\n",
       "Name: medv, dtype: float64"
      ]
     },
     "execution_count": 44,
     "metadata": {},
     "output_type": "execute_result"
    }
   ],
   "source": [
    "corr_matrix[\"medv\"].sort_values(ascending=False) #Ordenar valores em sentido decrescente"
   ]
  },
  {
   "cell_type": "markdown",
   "metadata": {
    "id": "0FDo4wlMqRlr"
   },
   "source": [
    "É conveniente usar o scatter_matrix do pandas. Essa função plota cada característica em relação a outra. Vamos selecionar algumas que parecem ser mais significativas.\n"
   ]
  },
  {
   "cell_type": "code",
   "execution_count": 54,
   "metadata": {
    "colab": {
     "base_uri": "https://localhost:8080/",
     "height": 807
    },
    "id": "3LpwQAvB8M0L",
    "outputId": "11d990c8-9042-4eb0-83b2-a64bc1842540"
   },
   "outputs": [
    {
     "data": {
      "text/plain": [
       "array([[<matplotlib.axes._subplots.AxesSubplot object at 0x000001C23E00A7C0>,\n",
       "        <matplotlib.axes._subplots.AxesSubplot object at 0x000001C23E010E80>,\n",
       "        <matplotlib.axes._subplots.AxesSubplot object at 0x000001C23DE09310>,\n",
       "        <matplotlib.axes._subplots.AxesSubplot object at 0x000001C23DE36760>],\n",
       "       [<matplotlib.axes._subplots.AxesSubplot object at 0x000001C23DE62BB0>,\n",
       "        <matplotlib.axes._subplots.AxesSubplot object at 0x000001C23DE983D0>,\n",
       "        <matplotlib.axes._subplots.AxesSubplot object at 0x000001C23DE984C0>,\n",
       "        <matplotlib.axes._subplots.AxesSubplot object at 0x000001C23DEC0CA0>],\n",
       "       [<matplotlib.axes._subplots.AxesSubplot object at 0x000001C23DF1FB80>,\n",
       "        <matplotlib.axes._subplots.AxesSubplot object at 0x000001C23DF55340>,\n",
       "        <matplotlib.axes._subplots.AxesSubplot object at 0x000001C23DF7FAC0>,\n",
       "        <matplotlib.axes._subplots.AxesSubplot object at 0x000001C23DFB3280>],\n",
       "       [<matplotlib.axes._subplots.AxesSubplot object at 0x000001C23DFDDA00>,\n",
       "        <matplotlib.axes._subplots.AxesSubplot object at 0x000001C23E1B41C0>,\n",
       "        <matplotlib.axes._subplots.AxesSubplot object at 0x000001C23E1DD940>,\n",
       "        <matplotlib.axes._subplots.AxesSubplot object at 0x000001C23E207160>]],\n",
       "      dtype=object)"
      ]
     },
     "execution_count": 54,
     "metadata": {},
     "output_type": "execute_result"
    },
    {
     "data": {
      "image/png": "[encoded data removed]",
      "text/plain": [
       "<Figure size 864x576 with 16 Axes>"
      ]
     },
     "metadata": {
      "needs_background": "light"
     },
     "output_type": "display_data"
    }
   ],
   "source": [
    "from pandas.plotting import scatter_matrix\n",
    "\n",
    "attributes = [\"medv\", \"dis\", \"rm\",\n",
    "              \"tax\"]\n",
    "scatter_matrix(housing[attributes], figsize=(12, 8))"
   ]
  },
  {
   "cell_type": "markdown",
   "metadata": {
    "id": "t1Cug8hvrd6-"
   },
   "source": [
    "**OBS:** Na diagonal principal da plotagem anterior não temos atributo v.s. atributo, mas sim o histograma da característica."
   ]
  },
  {
   "cell_type": "markdown",
   "metadata": {
    "id": "HG0nvHx8r7Rs"
   },
   "source": [
    "Vimos antes que a característica que tinha maior correlação com o valor mediano de casas em um bairro era o número de quartos. Então vamos plotar para estudar a relação entre ambos:"
   ]
  },
  {
   "cell_type": "code",
   "execution_count": 50,
   "metadata": {
    "colab": {
     "base_uri": "https://localhost:8080/",
     "height": 297
    },
    "id": "P7tUBQjz8M0R",
    "outputId": "09ab4957-1680-406e-a506-2046309b1568"
   },
   "outputs": [
    {
     "data": {
      "text/plain": [
       "(4.0, 10.0, 10.0, 40.0)"
      ]
     },
     "execution_count": 50,
     "metadata": {},
     "output_type": "execute_result"
    },
    {
     "data": {
      "image/png": "[encoded data removed]",
      "text/plain": [
       "<Figure size 432x288 with 1 Axes>"
      ]
     },
     "metadata": {
      "needs_background": "light"
     },
     "output_type": "display_data"
    }
   ],
   "source": [
    "housing.plot(kind=\"scatter\", x=\"rm\", y=\"medv\",\n",
    "             alpha=0.4)\n",
    "plt.axis([4, 10, 10, 40])"
   ]
  },
  {
   "cell_type": "markdown",
   "metadata": {
    "id": "LPlzoY-D2Mo-"
   },
   "source": [
    "Vejamos agora a matriz de correlação de housing:"
   ]
  },
  {
   "cell_type": "code",
   "execution_count": 55,
   "metadata": {
    "colab": {
     "base_uri": "https://localhost:8080/"
    },
    "id": "QIXxphSB8M0e",
    "outputId": "f4a375e7-0fd8-46f5-879f-fb4bc9641922"
   },
   "outputs": [
    {
     "data": {
      "text/plain": [
       "medv       1.000000\n",
       "rm         0.695048\n",
       "zn         0.352369\n",
       "b          0.339883\n",
       "dis        0.217843\n",
       "chas       0.185990\n",
       "age       -0.360642\n",
       "crim      -0.363637\n",
       "rad       -0.368311\n",
       "nox       -0.408862\n",
       "tax       -0.451597\n",
       "indus     -0.460246\n",
       "ptratio   -0.517646\n",
       "lstat     -0.735877\n",
       "Name: medv, dtype: float64"
      ]
     },
     "execution_count": 55,
     "metadata": {},
     "output_type": "execute_result"
    }
   ],
   "source": [
    "corr_matrix = housing.corr()\n",
    "corr_matrix[\"medv\"].sort_values(ascending=False)"
   ]
  },
  {
   "cell_type": "markdown",
   "metadata": {
    "id": "z1bPs-YC3Q5-"
   },
   "source": [
    "De fato, casas com mais comodos tendem a ser mais caras."
   ]
  },
  {
   "cell_type": "markdown",
   "metadata": {
    "id": "uVO_3R264SaH"
   },
   "source": [
    "Vamos ver novamente as medidas resumos."
   ]
  },
  {
   "cell_type": "code",
   "execution_count": 57,
   "metadata": {
    "colab": {
     "base_uri": "https://localhost:8080/",
     "height": 317
    },
    "id": "K-Je-Uao8M0n",
    "outputId": "00f228a7-02cc-41e5-eb53-356dcfc02582"
   },
   "outputs": [
    {
     "data": {
      "text/html": [
       "<div>\n",
       "<style scoped>\n",
       "    .dataframe tbody tr th:only-of-type {\n",
       "        vertical-align: middle;\n",
       "    }\n",
       "\n",
       "    .dataframe tbody tr th {\n",
       "        vertical-align: top;\n",
       "    }\n",
       "\n",
       "    .dataframe thead th {\n",
       "        text-align: right;\n",
       "    }\n",
       "</style>\n",
       "<table border=\"1\" class=\"dataframe\">\n",
       "  <thead>\n",
       "    <tr style=\"text-align: right;\">\n",
       "      <th></th>\n",
       "      <th>crim</th>\n",
       "      <th>zn</th>\n",
       "      <th>indus</th>\n",
       "      <th>chas</th>\n",
       "      <th>nox</th>\n",
       "      <th>rm</th>\n",
       "      <th>age</th>\n",
       "      <th>dis</th>\n",
       "      <th>rad</th>\n",
       "      <th>tax</th>\n",
       "      <th>ptratio</th>\n",
       "      <th>b</th>\n",
       "      <th>lstat</th>\n",
       "      <th>medv</th>\n",
       "    </tr>\n",
       "  </thead>\n",
       "  <tbody>\n",
       "    <tr>\n",
       "      <th>count</th>\n",
       "      <td>404.000000</td>\n",
       "      <td>404.000000</td>\n",
       "      <td>404.000000</td>\n",
       "      <td>404.000000</td>\n",
       "      <td>404.000000</td>\n",
       "      <td>404.000000</td>\n",
       "      <td>404.000000</td>\n",
       "      <td>404.000000</td>\n",
       "      <td>404.000000</td>\n",
       "      <td>404.000000</td>\n",
       "      <td>404.000000</td>\n",
       "      <td>404.000000</td>\n",
       "      <td>404.000000</td>\n",
       "      <td>404.000000</td>\n",
       "    </tr>\n",
       "    <tr>\n",
       "      <th>mean</th>\n",
       "      <td>3.508724</td>\n",
       "      <td>11.096535</td>\n",
       "      <td>11.203193</td>\n",
       "      <td>0.066832</td>\n",
       "      <td>0.556173</td>\n",
       "      <td>6.306639</td>\n",
       "      <td>68.890842</td>\n",
       "      <td>3.796019</td>\n",
       "      <td>9.472772</td>\n",
       "      <td>410.037129</td>\n",
       "      <td>18.485396</td>\n",
       "      <td>354.184901</td>\n",
       "      <td>12.498936</td>\n",
       "      <td>22.697772</td>\n",
       "    </tr>\n",
       "    <tr>\n",
       "      <th>std</th>\n",
       "      <td>8.513287</td>\n",
       "      <td>22.956818</td>\n",
       "      <td>6.907667</td>\n",
       "      <td>0.250040</td>\n",
       "      <td>0.115274</td>\n",
       "      <td>0.708953</td>\n",
       "      <td>27.929715</td>\n",
       "      <td>2.097564</td>\n",
       "      <td>8.730128</td>\n",
       "      <td>167.633110</td>\n",
       "      <td>2.198310</td>\n",
       "      <td>94.033505</td>\n",
       "      <td>6.977071</td>\n",
       "      <td>9.383483</td>\n",
       "    </tr>\n",
       "    <tr>\n",
       "      <th>min</th>\n",
       "      <td>0.006320</td>\n",
       "      <td>0.000000</td>\n",
       "      <td>0.460000</td>\n",
       "      <td>0.000000</td>\n",
       "      <td>0.385000</td>\n",
       "      <td>3.561000</td>\n",
       "      <td>2.900000</td>\n",
       "      <td>1.129600</td>\n",
       "      <td>1.000000</td>\n",
       "      <td>188.000000</td>\n",
       "      <td>12.600000</td>\n",
       "      <td>0.320000</td>\n",
       "      <td>1.730000</td>\n",
       "      <td>5.000000</td>\n",
       "    </tr>\n",
       "    <tr>\n",
       "      <th>25%</th>\n",
       "      <td>0.081960</td>\n",
       "      <td>0.000000</td>\n",
       "      <td>5.130000</td>\n",
       "      <td>0.000000</td>\n",
       "      <td>0.453000</td>\n",
       "      <td>5.911000</td>\n",
       "      <td>46.475000</td>\n",
       "      <td>2.116900</td>\n",
       "      <td>4.000000</td>\n",
       "      <td>281.000000</td>\n",
       "      <td>17.400000</td>\n",
       "      <td>374.650000</td>\n",
       "      <td>6.915000</td>\n",
       "      <td>17.200000</td>\n",
       "    </tr>\n",
       "    <tr>\n",
       "      <th>50%</th>\n",
       "      <td>0.252930</td>\n",
       "      <td>0.000000</td>\n",
       "      <td>9.900000</td>\n",
       "      <td>0.000000</td>\n",
       "      <td>0.538000</td>\n",
       "      <td>6.205000</td>\n",
       "      <td>77.950000</td>\n",
       "      <td>3.122200</td>\n",
       "      <td>5.000000</td>\n",
       "      <td>334.500000</td>\n",
       "      <td>19.100000</td>\n",
       "      <td>391.240000</td>\n",
       "      <td>11.430000</td>\n",
       "      <td>21.200000</td>\n",
       "    </tr>\n",
       "    <tr>\n",
       "      <th>75%</th>\n",
       "      <td>3.594927</td>\n",
       "      <td>12.500000</td>\n",
       "      <td>18.100000</td>\n",
       "      <td>0.000000</td>\n",
       "      <td>0.624000</td>\n",
       "      <td>6.616750</td>\n",
       "      <td>93.800000</td>\n",
       "      <td>5.212575</td>\n",
       "      <td>24.000000</td>\n",
       "      <td>666.000000</td>\n",
       "      <td>20.200000</td>\n",
       "      <td>396.060000</td>\n",
       "      <td>16.457500</td>\n",
       "      <td>25.000000</td>\n",
       "    </tr>\n",
       "    <tr>\n",
       "      <th>max</th>\n",
       "      <td>88.976200</td>\n",
       "      <td>95.000000</td>\n",
       "      <td>27.740000</td>\n",
       "      <td>1.000000</td>\n",
       "      <td>0.871000</td>\n",
       "      <td>8.780000</td>\n",
       "      <td>100.000000</td>\n",
       "      <td>10.710300</td>\n",
       "      <td>24.000000</td>\n",
       "      <td>711.000000</td>\n",
       "      <td>22.000000</td>\n",
       "      <td>396.900000</td>\n",
       "      <td>36.980000</td>\n",
       "      <td>50.000000</td>\n",
       "    </tr>\n",
       "  </tbody>\n",
       "</table>\n",
       "</div>"
      ],
      "text/plain": [
       "             crim          zn       indus        chas         nox          rm  \\\n",
       "count  404.000000  404.000000  404.000000  404.000000  404.000000  404.000000   \n",
       "mean     3.508724   11.096535   11.203193    0.066832    0.556173    6.306639   \n",
       "std      8.513287   22.956818    6.907667    0.250040    0.115274    0.708953   \n",
       "min      0.006320    0.000000    0.460000    0.000000    0.385000    3.561000   \n",
       "25%      0.081960    0.000000    5.130000    0.000000    0.453000    5.911000   \n",
       "50%      0.252930    0.000000    9.900000    0.000000    0.538000    6.205000   \n",
       "75%      3.594927   12.500000   18.100000    0.000000    0.624000    6.616750   \n",
       "max     88.976200   95.000000   27.740000    1.000000    0.871000    8.780000   \n",
       "\n",
       "              age         dis         rad         tax     ptratio           b  \\\n",
       "count  404.000000  404.000000  404.000000  404.000000  404.000000  404.000000   \n",
       "mean    68.890842    3.796019    9.472772  410.037129   18.485396  354.184901   \n",
       "std     27.929715    2.097564    8.730128  167.633110    2.198310   94.033505   \n",
       "min      2.900000    1.129600    1.000000  188.000000   12.600000    0.320000   \n",
       "25%     46.475000    2.116900    4.000000  281.000000   17.400000  374.650000   \n",
       "50%     77.950000    3.122200    5.000000  334.500000   19.100000  391.240000   \n",
       "75%     93.800000    5.212575   24.000000  666.000000   20.200000  396.060000   \n",
       "max    100.000000   10.710300   24.000000  711.000000   22.000000  396.900000   \n",
       "\n",
       "            lstat        medv  \n",
       "count  404.000000  404.000000  \n",
       "mean    12.498936   22.697772  \n",
       "std      6.977071    9.383483  \n",
       "min      1.730000    5.000000  \n",
       "25%      6.915000   17.200000  \n",
       "50%     11.430000   21.200000  \n",
       "75%     16.457500   25.000000  \n",
       "max     36.980000   50.000000  "
      ]
     },
     "execution_count": 57,
     "metadata": {},
     "output_type": "execute_result"
    }
   ],
   "source": [
    "housing.describe()"
   ]
  },
  {
   "cell_type": "markdown",
   "metadata": {
    "id": "4K22d5b-8M0q"
   },
   "source": [
    "# Preparar os dados para os algoritmos de Machine Learning"
   ]
  },
  {
   "cell_type": "markdown",
   "metadata": {
    "id": "WXXVeIOY7dcH"
   },
   "source": [
    "Precisamos incialmente retirar os rótulos do conjunto <fon color='blue'> strat_train_set </font> (mais a frente ficará claro).\n",
    "\n",
    "Para isso, vamos usar o método drop:"
   ]
  },
  {
   "cell_type": "code",
   "execution_count": 58,
   "metadata": {
    "id": "K4f2vNh88M0r"
   },
   "outputs": [],
   "source": [
    "housing = strat_train_set.drop(\"medv\", axis=1) # O método drop cria cópia sem a coluna em questao\n",
    "housing_labels = strat_train_set[\"medv\"].copy() #salvando uma cópia"
   ]
  },
  {
   "cell_type": "markdown",
   "metadata": {
    "id": "-Nh2ij_tkjOJ"
   },
   "source": [
    "**OBS:** Ao longo desta seção estaremos chamando as features de treinamento como \"housing\". Atenção neste ponto para não confundir com o dataset inteiro. Isto é,\n",
    " tudo o que nos faremos aqui será feito somento no conjunto de treinamento!"
   ]
  },
  {
   "cell_type": "markdown",
   "metadata": {
    "id": "Dr8Yx1Gr8-D_"
   },
   "source": [
    "A partir de agora vamos partir para etapa de <font color='blue'>**limpeza de dados!**</font>\n",
    "\n",
    "Vamos começar verificando se temos dados falantes:"
   ]
  },
  {
   "cell_type": "code",
   "execution_count": 59,
   "metadata": {
    "colab": {
     "base_uri": "https://localhost:8080/",
     "height": 204
    },
    "id": "OreIJJVV8M0v",
    "outputId": "43a2870e-b6b9-4bf9-e523-4807f1ef997a"
   },
   "outputs": [
    {
     "data": {
      "text/html": [
       "<div>\n",
       "<style scoped>\n",
       "    .dataframe tbody tr th:only-of-type {\n",
       "        vertical-align: middle;\n",
       "    }\n",
       "\n",
       "    .dataframe tbody tr th {\n",
       "        vertical-align: top;\n",
       "    }\n",
       "\n",
       "    .dataframe thead th {\n",
       "        text-align: right;\n",
       "    }\n",
       "</style>\n",
       "<table border=\"1\" class=\"dataframe\">\n",
       "  <thead>\n",
       "    <tr style=\"text-align: right;\">\n",
       "      <th></th>\n",
       "      <th>crim</th>\n",
       "      <th>zn</th>\n",
       "      <th>indus</th>\n",
       "      <th>chas</th>\n",
       "      <th>nox</th>\n",
       "      <th>rm</th>\n",
       "      <th>age</th>\n",
       "      <th>dis</th>\n",
       "      <th>rad</th>\n",
       "      <th>tax</th>\n",
       "      <th>ptratio</th>\n",
       "      <th>b</th>\n",
       "      <th>lstat</th>\n",
       "      <th>tax_cat</th>\n",
       "    </tr>\n",
       "  </thead>\n",
       "  <tbody>\n",
       "  </tbody>\n",
       "</table>\n",
       "</div>"
      ],
      "text/plain": [
       "Empty DataFrame\n",
       "Columns: [crim, zn, indus, chas, nox, rm, age, dis, rad, tax, ptratio, b, lstat, tax_cat]\n",
       "Index: []"
      ]
     },
     "execution_count": 59,
     "metadata": {},
     "output_type": "execute_result"
    }
   ],
   "source": [
    "#housing.isnull().any(axis=1) verifica quais linhas possuem alguma célula null\n",
    "sample_incomplete_rows = housing[housing.isnull().any(axis=1)].head() \n",
    "sample_incomplete_rows"
   ]
  },
  {
   "cell_type": "code",
   "execution_count": 60,
   "metadata": {
    "colab": {
     "base_uri": "https://localhost:8080/",
     "height": 204
    },
    "id": "n_6G0HD1tFIZ",
    "outputId": "d8fe486c-1af8-4b7a-e41b-3d98f0cf642e"
   },
   "outputs": [
    {
     "data": {
      "text/html": [
       "<div>\n",
       "<style scoped>\n",
       "    .dataframe tbody tr th:only-of-type {\n",
       "        vertical-align: middle;\n",
       "    }\n",
       "\n",
       "    .dataframe tbody tr th {\n",
       "        vertical-align: top;\n",
       "    }\n",
       "\n",
       "    .dataframe thead th {\n",
       "        text-align: right;\n",
       "    }\n",
       "</style>\n",
       "<table border=\"1\" class=\"dataframe\">\n",
       "  <thead>\n",
       "    <tr style=\"text-align: right;\">\n",
       "      <th></th>\n",
       "      <th>crim</th>\n",
       "      <th>zn</th>\n",
       "      <th>indus</th>\n",
       "      <th>chas</th>\n",
       "      <th>nox</th>\n",
       "      <th>rm</th>\n",
       "      <th>age</th>\n",
       "      <th>dis</th>\n",
       "      <th>rad</th>\n",
       "      <th>tax</th>\n",
       "      <th>ptratio</th>\n",
       "      <th>b</th>\n",
       "      <th>lstat</th>\n",
       "      <th>tax_cat</th>\n",
       "    </tr>\n",
       "  </thead>\n",
       "  <tbody>\n",
       "  </tbody>\n",
       "</table>\n",
       "</div>"
      ],
      "text/plain": [
       "Empty DataFrame\n",
       "Columns: [crim, zn, indus, chas, nox, rm, age, dis, rad, tax, ptratio, b, lstat, tax_cat]\n",
       "Index: []"
      ]
     },
     "execution_count": 60,
     "metadata": {},
     "output_type": "execute_result"
    }
   ],
   "source": [
    "sample_incomplete_rows"
   ]
  },
  {
   "cell_type": "markdown",
   "metadata": {
    "id": "g93mvTOr94j-"
   },
   "source": [
    "Não possuímo dados faltantes."
   ]
  },
  {
   "cell_type": "markdown",
   "metadata": {
    "id": "y0iuZ4GFC2Wk"
   },
   "source": [
    "Vamos novamente revisar o nosso dataset..."
   ]
  },
  {
   "cell_type": "code",
   "execution_count": 62,
   "metadata": {
    "colab": {
     "base_uri": "https://localhost:8080/",
     "height": 419
    },
    "id": "bC1UXCMtC7Dr",
    "outputId": "4f2b2363-dcb3-4b49-c36f-76d6666d26ca"
   },
   "outputs": [
    {
     "data": {
      "text/html": [
       "<div>\n",
       "<style scoped>\n",
       "    .dataframe tbody tr th:only-of-type {\n",
       "        vertical-align: middle;\n",
       "    }\n",
       "\n",
       "    .dataframe tbody tr th {\n",
       "        vertical-align: top;\n",
       "    }\n",
       "\n",
       "    .dataframe thead th {\n",
       "        text-align: right;\n",
       "    }\n",
       "</style>\n",
       "<table border=\"1\" class=\"dataframe\">\n",
       "  <thead>\n",
       "    <tr style=\"text-align: right;\">\n",
       "      <th></th>\n",
       "      <th>crim</th>\n",
       "      <th>zn</th>\n",
       "      <th>indus</th>\n",
       "      <th>chas</th>\n",
       "      <th>nox</th>\n",
       "      <th>rm</th>\n",
       "      <th>age</th>\n",
       "      <th>dis</th>\n",
       "      <th>rad</th>\n",
       "      <th>tax</th>\n",
       "      <th>ptratio</th>\n",
       "      <th>b</th>\n",
       "      <th>lstat</th>\n",
       "      <th>tax_cat</th>\n",
       "    </tr>\n",
       "  </thead>\n",
       "  <tbody>\n",
       "    <tr>\n",
       "      <th>450</th>\n",
       "      <td>6.71772</td>\n",
       "      <td>0.0</td>\n",
       "      <td>18.10</td>\n",
       "      <td>0</td>\n",
       "      <td>0.713</td>\n",
       "      <td>6.749</td>\n",
       "      <td>92.6</td>\n",
       "      <td>2.3236</td>\n",
       "      <td>24</td>\n",
       "      <td>666</td>\n",
       "      <td>20.2</td>\n",
       "      <td>0.32</td>\n",
       "      <td>17.44</td>\n",
       "      <td>3</td>\n",
       "    </tr>\n",
       "    <tr>\n",
       "      <th>119</th>\n",
       "      <td>0.14476</td>\n",
       "      <td>0.0</td>\n",
       "      <td>10.01</td>\n",
       "      <td>0</td>\n",
       "      <td>0.547</td>\n",
       "      <td>5.731</td>\n",
       "      <td>65.2</td>\n",
       "      <td>2.7592</td>\n",
       "      <td>6</td>\n",
       "      <td>432</td>\n",
       "      <td>17.8</td>\n",
       "      <td>391.50</td>\n",
       "      <td>13.61</td>\n",
       "      <td>2</td>\n",
       "    </tr>\n",
       "    <tr>\n",
       "      <th>200</th>\n",
       "      <td>0.01778</td>\n",
       "      <td>95.0</td>\n",
       "      <td>1.47</td>\n",
       "      <td>0</td>\n",
       "      <td>0.403</td>\n",
       "      <td>7.135</td>\n",
       "      <td>13.9</td>\n",
       "      <td>7.6534</td>\n",
       "      <td>3</td>\n",
       "      <td>402</td>\n",
       "      <td>17.0</td>\n",
       "      <td>384.30</td>\n",
       "      <td>4.45</td>\n",
       "      <td>2</td>\n",
       "    </tr>\n",
       "    <tr>\n",
       "      <th>480</th>\n",
       "      <td>5.82401</td>\n",
       "      <td>0.0</td>\n",
       "      <td>18.10</td>\n",
       "      <td>0</td>\n",
       "      <td>0.532</td>\n",
       "      <td>6.242</td>\n",
       "      <td>64.7</td>\n",
       "      <td>3.4242</td>\n",
       "      <td>24</td>\n",
       "      <td>666</td>\n",
       "      <td>20.2</td>\n",
       "      <td>396.90</td>\n",
       "      <td>10.74</td>\n",
       "      <td>3</td>\n",
       "    </tr>\n",
       "    <tr>\n",
       "      <th>360</th>\n",
       "      <td>4.54192</td>\n",
       "      <td>0.0</td>\n",
       "      <td>18.10</td>\n",
       "      <td>0</td>\n",
       "      <td>0.770</td>\n",
       "      <td>6.398</td>\n",
       "      <td>88.0</td>\n",
       "      <td>2.5182</td>\n",
       "      <td>24</td>\n",
       "      <td>666</td>\n",
       "      <td>20.2</td>\n",
       "      <td>374.56</td>\n",
       "      <td>7.79</td>\n",
       "      <td>3</td>\n",
       "    </tr>\n",
       "    <tr>\n",
       "      <th>...</th>\n",
       "      <td>...</td>\n",
       "      <td>...</td>\n",
       "      <td>...</td>\n",
       "      <td>...</td>\n",
       "      <td>...</td>\n",
       "      <td>...</td>\n",
       "      <td>...</td>\n",
       "      <td>...</td>\n",
       "      <td>...</td>\n",
       "      <td>...</td>\n",
       "      <td>...</td>\n",
       "      <td>...</td>\n",
       "      <td>...</td>\n",
       "      <td>...</td>\n",
       "    </tr>\n",
       "    <tr>\n",
       "      <th>387</th>\n",
       "      <td>22.59710</td>\n",
       "      <td>0.0</td>\n",
       "      <td>18.10</td>\n",
       "      <td>0</td>\n",
       "      <td>0.700</td>\n",
       "      <td>5.000</td>\n",
       "      <td>89.5</td>\n",
       "      <td>1.5184</td>\n",
       "      <td>24</td>\n",
       "      <td>666</td>\n",
       "      <td>20.2</td>\n",
       "      <td>396.90</td>\n",
       "      <td>31.99</td>\n",
       "      <td>3</td>\n",
       "    </tr>\n",
       "    <tr>\n",
       "      <th>313</th>\n",
       "      <td>0.26938</td>\n",
       "      <td>0.0</td>\n",
       "      <td>9.90</td>\n",
       "      <td>0</td>\n",
       "      <td>0.544</td>\n",
       "      <td>6.266</td>\n",
       "      <td>82.8</td>\n",
       "      <td>3.2628</td>\n",
       "      <td>4</td>\n",
       "      <td>304</td>\n",
       "      <td>18.4</td>\n",
       "      <td>393.39</td>\n",
       "      <td>7.90</td>\n",
       "      <td>2</td>\n",
       "    </tr>\n",
       "    <tr>\n",
       "      <th>333</th>\n",
       "      <td>0.05083</td>\n",
       "      <td>0.0</td>\n",
       "      <td>5.19</td>\n",
       "      <td>0</td>\n",
       "      <td>0.515</td>\n",
       "      <td>6.316</td>\n",
       "      <td>38.1</td>\n",
       "      <td>6.4584</td>\n",
       "      <td>5</td>\n",
       "      <td>224</td>\n",
       "      <td>20.2</td>\n",
       "      <td>389.71</td>\n",
       "      <td>5.68</td>\n",
       "      <td>1</td>\n",
       "    </tr>\n",
       "    <tr>\n",
       "      <th>319</th>\n",
       "      <td>0.47547</td>\n",
       "      <td>0.0</td>\n",
       "      <td>9.90</td>\n",
       "      <td>0</td>\n",
       "      <td>0.544</td>\n",
       "      <td>6.113</td>\n",
       "      <td>58.8</td>\n",
       "      <td>4.0019</td>\n",
       "      <td>4</td>\n",
       "      <td>304</td>\n",
       "      <td>18.4</td>\n",
       "      <td>396.23</td>\n",
       "      <td>12.73</td>\n",
       "      <td>2</td>\n",
       "    </tr>\n",
       "    <tr>\n",
       "      <th>246</th>\n",
       "      <td>0.33983</td>\n",
       "      <td>22.0</td>\n",
       "      <td>5.86</td>\n",
       "      <td>0</td>\n",
       "      <td>0.431</td>\n",
       "      <td>6.108</td>\n",
       "      <td>34.9</td>\n",
       "      <td>8.0555</td>\n",
       "      <td>7</td>\n",
       "      <td>330</td>\n",
       "      <td>19.1</td>\n",
       "      <td>390.18</td>\n",
       "      <td>9.16</td>\n",
       "      <td>2</td>\n",
       "    </tr>\n",
       "  </tbody>\n",
       "</table>\n",
       "<p>404 rows × 14 columns</p>\n",
       "</div>"
      ],
      "text/plain": [
       "         crim    zn  indus  chas    nox     rm   age     dis  rad  tax  \\\n",
       "450   6.71772   0.0  18.10     0  0.713  6.749  92.6  2.3236   24  666   \n",
       "119   0.14476   0.0  10.01     0  0.547  5.731  65.2  2.7592    6  432   \n",
       "200   0.01778  95.0   1.47     0  0.403  7.135  13.9  7.6534    3  402   \n",
       "480   5.82401   0.0  18.10     0  0.532  6.242  64.7  3.4242   24  666   \n",
       "360   4.54192   0.0  18.10     0  0.770  6.398  88.0  2.5182   24  666   \n",
       "..        ...   ...    ...   ...    ...    ...   ...     ...  ...  ...   \n",
       "387  22.59710   0.0  18.10     0  0.700  5.000  89.5  1.5184   24  666   \n",
       "313   0.26938   0.0   9.90     0  0.544  6.266  82.8  3.2628    4  304   \n",
       "333   0.05083   0.0   5.19     0  0.515  6.316  38.1  6.4584    5  224   \n",
       "319   0.47547   0.0   9.90     0  0.544  6.113  58.8  4.0019    4  304   \n",
       "246   0.33983  22.0   5.86     0  0.431  6.108  34.9  8.0555    7  330   \n",
       "\n",
       "     ptratio       b  lstat tax_cat  \n",
       "450     20.2    0.32  17.44       3  \n",
       "119     17.8  391.50  13.61       2  \n",
       "200     17.0  384.30   4.45       2  \n",
       "480     20.2  396.90  10.74       3  \n",
       "360     20.2  374.56   7.79       3  \n",
       "..       ...     ...    ...     ...  \n",
       "387     20.2  396.90  31.99       3  \n",
       "313     18.4  393.39   7.90       2  \n",
       "333     20.2  389.71   5.68       1  \n",
       "319     18.4  396.23  12.73       2  \n",
       "246     19.1  390.18   9.16       2  \n",
       "\n",
       "[404 rows x 14 columns]"
      ]
     },
     "execution_count": 62,
     "metadata": {},
     "output_type": "execute_result"
    }
   ],
   "source": [
    "housing"
   ]
  },
  {
   "cell_type": "markdown",
   "metadata": {
    "id": "_R3RrWmp8M1O"
   },
   "source": [
    "Ainda temos a última coluna que não é numérica! \n",
    "\n",
    "A princípios, grande parte dos algoritmos de machine learning no computador preferem os dados representados numericamente!"
   ]
  },
  {
   "cell_type": "code",
   "execution_count": 64,
   "metadata": {
    "colab": {
     "base_uri": "https://localhost:8080/"
    },
    "id": "DEXT2hQr8M1S",
    "outputId": "b1052ef1-5aaf-4fe0-9c34-5762bcdd0bc8"
   },
   "outputs": [
    {
     "data": {
      "text/plain": [
       "SimpleImputer(strategy='median')"
      ]
     },
     "execution_count": 64,
     "metadata": {},
     "output_type": "execute_result"
    }
   ],
   "source": [
    "imputer.fit(housing) "
   ]
  },
  {
   "cell_type": "markdown",
   "metadata": {
    "id": "VJ5SdBuUD27i"
   },
   "source": [
    "Aqui, o imputer simplesmente calculou a mediana no conjunto de dados.\n",
    "\n",
    "Vejamos algumas informações sobre o nosso objeto imputer:"
   ]
  },
  {
   "cell_type": "code",
   "execution_count": 65,
   "metadata": {
    "colab": {
     "base_uri": "https://localhost:8080/"
    },
    "id": "sP3wAcyX8M1W",
    "outputId": "3eac07e8-b96d-416e-c1a0-f57165fda0fa"
   },
   "outputs": [
    {
     "data": {
      "text/plain": [
       "array([2.5293e-01, 0.0000e+00, 9.9000e+00, 0.0000e+00, 5.3800e-01,\n",
       "       6.2050e+00, 7.7950e+01, 3.1222e+00, 5.0000e+00, 3.3450e+02,\n",
       "       1.9100e+01, 3.9124e+02, 1.1430e+01, 2.0000e+00])"
      ]
     },
     "execution_count": 65,
     "metadata": {},
     "output_type": "execute_result"
    }
   ],
   "source": [
    "imputer.statistics_"
   ]
  },
  {
   "cell_type": "markdown",
   "metadata": {
    "id": "0o1__l6p8M1a"
   },
   "source": [
    "Vamos verificar que isto é, na verdade, a mesma coisa que calcular manualmente a mediana de cada atributo:"
   ]
  },
  {
   "cell_type": "code",
   "execution_count": 67,
   "metadata": {
    "colab": {
     "base_uri": "https://localhost:8080/"
    },
    "id": "27Qi1YJc8M1c",
    "outputId": "5cedeecd-7517-4399-fdd2-36f70b55113d"
   },
   "outputs": [
    {
     "data": {
      "text/plain": [
       "array([2.5293e-01, 0.0000e+00, 9.9000e+00, 0.0000e+00, 5.3800e-01,\n",
       "       6.2050e+00, 7.7950e+01, 3.1222e+00, 5.0000e+00, 3.3450e+02,\n",
       "       1.9100e+01, 3.9124e+02, 1.1430e+01, 2.0000e+00])"
      ]
     },
     "execution_count": 67,
     "metadata": {},
     "output_type": "execute_result"
    }
   ],
   "source": [
    "housing.median().values"
   ]
  },
  {
   "cell_type": "markdown",
   "metadata": {
    "id": "df5gUu6H8M1j"
   },
   "source": [
    "Vamos agora finalmente <font color = 'blue'> transformar </font> o nosso conjunto de dados, aplicando, efetivamente, o valor calculado da mediana nos dados faltantes:"
   ]
  },
  {
   "cell_type": "code",
   "execution_count": 68,
   "metadata": {
    "id": "zeMG56He8M1k"
   },
   "outputs": [],
   "source": [
    "X = imputer.transform(housing) #numpy array"
   ]
  },
  {
   "cell_type": "markdown",
   "metadata": {
    "id": "CWZP3rviHVT3"
   },
   "source": [
    "Vamos visualizar o conjunto X"
   ]
  },
  {
   "cell_type": "code",
   "execution_count": 69,
   "metadata": {
    "colab": {
     "base_uri": "https://localhost:8080/"
    },
    "id": "OzhW6FTsHYCA",
    "outputId": "0e1d457f-d405-41a5-c911-11c3620404d7"
   },
   "outputs": [
    {
     "data": {
      "text/plain": [
       "array([[6.71772e+00, 0.00000e+00, 1.81000e+01, ..., 3.20000e-01,\n",
       "        1.74400e+01, 3.00000e+00],\n",
       "       [1.44760e-01, 0.00000e+00, 1.00100e+01, ..., 3.91500e+02,\n",
       "        1.36100e+01, 2.00000e+00],\n",
       "       [1.77800e-02, 9.50000e+01, 1.47000e+00, ..., 3.84300e+02,\n",
       "        4.45000e+00, 2.00000e+00],\n",
       "       ...,\n",
       "       [5.08300e-02, 0.00000e+00, 5.19000e+00, ..., 3.89710e+02,\n",
       "        5.68000e+00, 1.00000e+00],\n",
       "       [4.75470e-01, 0.00000e+00, 9.90000e+00, ..., 3.96230e+02,\n",
       "        1.27300e+01, 2.00000e+00],\n",
       "       [3.39830e-01, 2.20000e+01, 5.86000e+00, ..., 3.90180e+02,\n",
       "        9.16000e+00, 2.00000e+00]])"
      ]
     },
     "execution_count": 69,
     "metadata": {},
     "output_type": "execute_result"
    }
   ],
   "source": [
    "X"
   ]
  },
  {
   "cell_type": "markdown",
   "metadata": {
    "id": "uM-cJ1LiHaS2"
   },
   "source": [
    "Se você se sentir mais confortável, pode transformar o conjunto X em um dataframe:"
   ]
  },
  {
   "cell_type": "code",
   "execution_count": 71,
   "metadata": {
    "id": "l9CX4hOO8M1n"
   },
   "outputs": [],
   "source": [
    "housing_tr = pd.DataFrame(X, columns=housing.columns, #importante informar nome das colunas\n",
    "                          index=housing.index) #DataFrame Pandas"
   ]
  },
  {
   "cell_type": "markdown",
   "metadata": {
    "id": "o9szVFMcHhQa"
   },
   "source": [
    "Vejamos como é este dataframe:"
   ]
  },
  {
   "cell_type": "code",
   "execution_count": 72,
   "metadata": {
    "colab": {
     "base_uri": "https://localhost:8080/",
     "height": 204
    },
    "id": "5mYCY8ltHlcD",
    "outputId": "dbccca53-7df2-467c-ca14-88ce2039a2ac"
   },
   "outputs": [
    {
     "data": {
      "text/html": [
       "<div>\n",
       "<style scoped>\n",
       "    .dataframe tbody tr th:only-of-type {\n",
       "        vertical-align: middle;\n",
       "    }\n",
       "\n",
       "    .dataframe tbody tr th {\n",
       "        vertical-align: top;\n",
       "    }\n",
       "\n",
       "    .dataframe thead th {\n",
       "        text-align: right;\n",
       "    }\n",
       "</style>\n",
       "<table border=\"1\" class=\"dataframe\">\n",
       "  <thead>\n",
       "    <tr style=\"text-align: right;\">\n",
       "      <th></th>\n",
       "      <th>crim</th>\n",
       "      <th>zn</th>\n",
       "      <th>indus</th>\n",
       "      <th>chas</th>\n",
       "      <th>nox</th>\n",
       "      <th>rm</th>\n",
       "      <th>age</th>\n",
       "      <th>dis</th>\n",
       "      <th>rad</th>\n",
       "      <th>tax</th>\n",
       "      <th>ptratio</th>\n",
       "      <th>b</th>\n",
       "      <th>lstat</th>\n",
       "      <th>tax_cat</th>\n",
       "    </tr>\n",
       "  </thead>\n",
       "  <tbody>\n",
       "    <tr>\n",
       "      <th>450</th>\n",
       "      <td>6.71772</td>\n",
       "      <td>0.0</td>\n",
       "      <td>18.10</td>\n",
       "      <td>0.0</td>\n",
       "      <td>0.713</td>\n",
       "      <td>6.749</td>\n",
       "      <td>92.6</td>\n",
       "      <td>2.3236</td>\n",
       "      <td>24.0</td>\n",
       "      <td>666.0</td>\n",
       "      <td>20.2</td>\n",
       "      <td>0.32</td>\n",
       "      <td>17.44</td>\n",
       "      <td>3.0</td>\n",
       "    </tr>\n",
       "    <tr>\n",
       "      <th>119</th>\n",
       "      <td>0.14476</td>\n",
       "      <td>0.0</td>\n",
       "      <td>10.01</td>\n",
       "      <td>0.0</td>\n",
       "      <td>0.547</td>\n",
       "      <td>5.731</td>\n",
       "      <td>65.2</td>\n",
       "      <td>2.7592</td>\n",
       "      <td>6.0</td>\n",
       "      <td>432.0</td>\n",
       "      <td>17.8</td>\n",
       "      <td>391.50</td>\n",
       "      <td>13.61</td>\n",
       "      <td>2.0</td>\n",
       "    </tr>\n",
       "    <tr>\n",
       "      <th>200</th>\n",
       "      <td>0.01778</td>\n",
       "      <td>95.0</td>\n",
       "      <td>1.47</td>\n",
       "      <td>0.0</td>\n",
       "      <td>0.403</td>\n",
       "      <td>7.135</td>\n",
       "      <td>13.9</td>\n",
       "      <td>7.6534</td>\n",
       "      <td>3.0</td>\n",
       "      <td>402.0</td>\n",
       "      <td>17.0</td>\n",
       "      <td>384.30</td>\n",
       "      <td>4.45</td>\n",
       "      <td>2.0</td>\n",
       "    </tr>\n",
       "    <tr>\n",
       "      <th>480</th>\n",
       "      <td>5.82401</td>\n",
       "      <td>0.0</td>\n",
       "      <td>18.10</td>\n",
       "      <td>0.0</td>\n",
       "      <td>0.532</td>\n",
       "      <td>6.242</td>\n",
       "      <td>64.7</td>\n",
       "      <td>3.4242</td>\n",
       "      <td>24.0</td>\n",
       "      <td>666.0</td>\n",
       "      <td>20.2</td>\n",
       "      <td>396.90</td>\n",
       "      <td>10.74</td>\n",
       "      <td>3.0</td>\n",
       "    </tr>\n",
       "    <tr>\n",
       "      <th>360</th>\n",
       "      <td>4.54192</td>\n",
       "      <td>0.0</td>\n",
       "      <td>18.10</td>\n",
       "      <td>0.0</td>\n",
       "      <td>0.770</td>\n",
       "      <td>6.398</td>\n",
       "      <td>88.0</td>\n",
       "      <td>2.5182</td>\n",
       "      <td>24.0</td>\n",
       "      <td>666.0</td>\n",
       "      <td>20.2</td>\n",
       "      <td>374.56</td>\n",
       "      <td>7.79</td>\n",
       "      <td>3.0</td>\n",
       "    </tr>\n",
       "  </tbody>\n",
       "</table>\n",
       "</div>"
      ],
      "text/plain": [
       "        crim    zn  indus  chas    nox     rm   age     dis   rad    tax  \\\n",
       "450  6.71772   0.0  18.10   0.0  0.713  6.749  92.6  2.3236  24.0  666.0   \n",
       "119  0.14476   0.0  10.01   0.0  0.547  5.731  65.2  2.7592   6.0  432.0   \n",
       "200  0.01778  95.0   1.47   0.0  0.403  7.135  13.9  7.6534   3.0  402.0   \n",
       "480  5.82401   0.0  18.10   0.0  0.532  6.242  64.7  3.4242  24.0  666.0   \n",
       "360  4.54192   0.0  18.10   0.0  0.770  6.398  88.0  2.5182  24.0  666.0   \n",
       "\n",
       "     ptratio       b  lstat  tax_cat  \n",
       "450     20.2    0.32  17.44      3.0  \n",
       "119     17.8  391.50  13.61      2.0  \n",
       "200     17.0  384.30   4.45      2.0  \n",
       "480     20.2  396.90  10.74      3.0  \n",
       "360     20.2  374.56   7.79      3.0  "
      ]
     },
     "execution_count": 72,
     "metadata": {},
     "output_type": "execute_result"
    }
   ],
   "source": [
    "housing_tr.head()"
   ]
  },
  {
   "cell_type": "code",
   "execution_count": 73,
   "metadata": {
    "colab": {
     "base_uri": "https://localhost:8080/"
    },
    "id": "fCgAnVEN8M13",
    "outputId": "f539f108-09d5-4834-9ddf-c83783ddc019"
   },
   "outputs": [
    {
     "name": "stdout",
     "output_type": "stream",
     "text": [
      "Scikit-Learn >= 2.0\n"
     ]
    }
   ],
   "source": [
    "try:\n",
    "    from sklearn.preprocessing import OrdinalEncoder\n",
    "    print(\"Scikit-Learn >= 2.0\")\n",
    "except ImportError:\n",
    "    from future_encoders import OrdinalEncoder # Scikit-Learn < 0.20\n",
    "    print(\"O teu Scikit-Learn tá antiguinho mô quirido\")"
   ]
  },
  {
   "cell_type": "markdown",
   "metadata": {
    "id": "0jTIHNpV-YC0"
   },
   "source": [
    "Na função a seguir, precisamos instanciar um objeto ordinal_encoder. \n",
    "\n",
    "Depois, usamos fit_transform para executa duas operações:\n",
    "\n",
    "1. Método fit irá ajustar os parâmetros (mapeamento, por exemplo, quais são as variáveis categóricas); \n",
    "\n",
    "2. Método transform irá transformar os dados;\n",
    "\n",
    "3. fit_transform(dados) irá ajustar parâmetros e transformar os dados.\n"
   ]
  },
  {
   "cell_type": "markdown",
   "metadata": {
    "id": "oBb4phIC8M2S"
   },
   "source": [
    "Vamos criar um transformador customizado para adicionar atributos extras \n",
    "\n",
    "**OBS**:\n",
    "- Vamos criar um código para o processo manual feito na etapa de Feature Engineering. \n",
    "\n",
    "- Vai nos ajudar a criar um pipeline mais a frente."
   ]
  },
  {
   "cell_type": "code",
   "execution_count": 76,
   "metadata": {
    "colab": {
     "base_uri": "https://localhost:8080/"
    },
    "id": "Elcx_lHE8M2T",
    "outputId": "7f9a6497-9d2b-4425-ee03-77059122bf16"
   },
   "outputs": [
    {
     "data": {
      "text/plain": [
       "Index(['crim', 'zn', 'indus', 'chas', 'nox', 'rm', 'age', 'dis', 'rad', 'tax',\n",
       "       'ptratio', 'b', 'lstat', 'tax_cat'],\n",
       "      dtype='object')"
      ]
     },
     "execution_count": 76,
     "metadata": {},
     "output_type": "execute_result"
    }
   ],
   "source": [
    "housing.columns"
   ]
  },
  {
   "cell_type": "markdown",
   "metadata": {
    "id": "sVtZVgtylH3S"
   },
   "source": [
    "Agora finalmente temos os nossos dados de treinamento pré-processados, assim como já temos um modelo de limpeza e tratamento de dados implentado que poderá ser aplicado no conjunto de teste."
   ]
  },
  {
   "cell_type": "markdown",
   "metadata": {
    "id": "hEd0_zms8M3Q"
   },
   "source": [
    "# Selecionar e treinar um modelo"
   ]
  },
  {
   "cell_type": "markdown",
   "metadata": {
    "id": "JNSjYgRslYpQ"
   },
   "source": [
    "Vamos começar com um modelo simples: Regressão Linear!"
   ]
  },
  {
   "cell_type": "code",
   "execution_count": 79,
   "metadata": {
    "colab": {
     "base_uri": "https://localhost:8080/"
    },
    "id": "Tlfuq_N_8M3Q",
    "outputId": "b6b2e334-ce03-45c4-aafd-862c389f8ea2"
   },
   "outputs": [
    {
     "data": {
      "text/plain": [
       "LinearRegression()"
      ]
     },
     "execution_count": 79,
     "metadata": {},
     "output_type": "execute_result"
    }
   ],
   "source": [
    "from sklearn.linear_model import LinearRegression\n",
    "\n",
    "lin_reg = LinearRegression()\n",
    "lin_reg.fit(housing, housing_labels) \n",
    "#Ei Regressão linear, encontre os parâmetros que melhor aproxima os dados"
   ]
  },
  {
   "cell_type": "markdown",
   "metadata": {
    "id": "1jftWY8qlw0V"
   },
   "source": [
    "Vamos agora testar o nosso pipeline de pré-processamento em algumas instâncias de treino.\n",
    "\n",
    "- Observe que após os nossos esforços em apenas uma linhas conseguimos pré-processar os dados!"
   ]
  },
  {
   "cell_type": "code",
   "execution_count": 80,
   "metadata": {
    "colab": {
     "base_uri": "https://localhost:8080/"
    },
    "id": "ZOEQya2loFN_",
    "outputId": "8221f866-faf0-42b7-e9c1-1cf44c8d19bd"
   },
   "outputs": [
    {
     "name": "stdout",
     "output_type": "stream",
     "text": [
      "Predictions: [16.56416165 21.28579468 31.34270113 23.93571429 23.00835336]\n"
     ]
    }
   ],
   "source": [
    "some_data = housing.iloc[:5]\n",
    "some_labels = housing_labels.iloc[:5]\n",
    "\n",
    "\n",
    "print(\"Predictions:\", lin_reg.predict(some_data))"
   ]
  },
  {
   "cell_type": "markdown",
   "metadata": {
    "id": "2ee13jK88M3W"
   },
   "source": [
    "Vamos comparar agora com os valores reais:\n"
   ]
  },
  {
   "cell_type": "code",
   "execution_count": 81,
   "metadata": {
    "colab": {
     "base_uri": "https://localhost:8080/"
    },
    "id": "cKuAW3cF8M3W",
    "outputId": "508cde3d-8184-47ea-bc9c-117b2fbd59a7"
   },
   "outputs": [
    {
     "name": "stdout",
     "output_type": "stream",
     "text": [
      "Labels: [13.4, 19.3, 32.9, 23.0, 25.0]\n"
     ]
    }
   ],
   "source": [
    "print(\"Labels:\", list(some_labels))"
   ]
  },
  {
   "cell_type": "code",
   "execution_count": 82,
   "metadata": {
    "colab": {
     "base_uri": "https://localhost:8080/"
    },
    "id": "TTiJNHzc8M3Z",
    "outputId": "8e2edbf2-a0d3-42c1-b4d8-576b5b9e49a0"
   },
   "outputs": [
    {
     "data": {
      "text/html": [
       "<div>\n",
       "<style scoped>\n",
       "    .dataframe tbody tr th:only-of-type {\n",
       "        vertical-align: middle;\n",
       "    }\n",
       "\n",
       "    .dataframe tbody tr th {\n",
       "        vertical-align: top;\n",
       "    }\n",
       "\n",
       "    .dataframe thead th {\n",
       "        text-align: right;\n",
       "    }\n",
       "</style>\n",
       "<table border=\"1\" class=\"dataframe\">\n",
       "  <thead>\n",
       "    <tr style=\"text-align: right;\">\n",
       "      <th></th>\n",
       "      <th>crim</th>\n",
       "      <th>zn</th>\n",
       "      <th>indus</th>\n",
       "      <th>chas</th>\n",
       "      <th>nox</th>\n",
       "      <th>rm</th>\n",
       "      <th>age</th>\n",
       "      <th>dis</th>\n",
       "      <th>rad</th>\n",
       "      <th>tax</th>\n",
       "      <th>ptratio</th>\n",
       "      <th>b</th>\n",
       "      <th>lstat</th>\n",
       "      <th>tax_cat</th>\n",
       "    </tr>\n",
       "  </thead>\n",
       "  <tbody>\n",
       "    <tr>\n",
       "      <th>450</th>\n",
       "      <td>6.71772</td>\n",
       "      <td>0.0</td>\n",
       "      <td>18.10</td>\n",
       "      <td>0</td>\n",
       "      <td>0.713</td>\n",
       "      <td>6.749</td>\n",
       "      <td>92.6</td>\n",
       "      <td>2.3236</td>\n",
       "      <td>24</td>\n",
       "      <td>666</td>\n",
       "      <td>20.2</td>\n",
       "      <td>0.32</td>\n",
       "      <td>17.44</td>\n",
       "      <td>3</td>\n",
       "    </tr>\n",
       "    <tr>\n",
       "      <th>119</th>\n",
       "      <td>0.14476</td>\n",
       "      <td>0.0</td>\n",
       "      <td>10.01</td>\n",
       "      <td>0</td>\n",
       "      <td>0.547</td>\n",
       "      <td>5.731</td>\n",
       "      <td>65.2</td>\n",
       "      <td>2.7592</td>\n",
       "      <td>6</td>\n",
       "      <td>432</td>\n",
       "      <td>17.8</td>\n",
       "      <td>391.50</td>\n",
       "      <td>13.61</td>\n",
       "      <td>2</td>\n",
       "    </tr>\n",
       "    <tr>\n",
       "      <th>200</th>\n",
       "      <td>0.01778</td>\n",
       "      <td>95.0</td>\n",
       "      <td>1.47</td>\n",
       "      <td>0</td>\n",
       "      <td>0.403</td>\n",
       "      <td>7.135</td>\n",
       "      <td>13.9</td>\n",
       "      <td>7.6534</td>\n",
       "      <td>3</td>\n",
       "      <td>402</td>\n",
       "      <td>17.0</td>\n",
       "      <td>384.30</td>\n",
       "      <td>4.45</td>\n",
       "      <td>2</td>\n",
       "    </tr>\n",
       "    <tr>\n",
       "      <th>480</th>\n",
       "      <td>5.82401</td>\n",
       "      <td>0.0</td>\n",
       "      <td>18.10</td>\n",
       "      <td>0</td>\n",
       "      <td>0.532</td>\n",
       "      <td>6.242</td>\n",
       "      <td>64.7</td>\n",
       "      <td>3.4242</td>\n",
       "      <td>24</td>\n",
       "      <td>666</td>\n",
       "      <td>20.2</td>\n",
       "      <td>396.90</td>\n",
       "      <td>10.74</td>\n",
       "      <td>3</td>\n",
       "    </tr>\n",
       "    <tr>\n",
       "      <th>360</th>\n",
       "      <td>4.54192</td>\n",
       "      <td>0.0</td>\n",
       "      <td>18.10</td>\n",
       "      <td>0</td>\n",
       "      <td>0.770</td>\n",
       "      <td>6.398</td>\n",
       "      <td>88.0</td>\n",
       "      <td>2.5182</td>\n",
       "      <td>24</td>\n",
       "      <td>666</td>\n",
       "      <td>20.2</td>\n",
       "      <td>374.56</td>\n",
       "      <td>7.79</td>\n",
       "      <td>3</td>\n",
       "    </tr>\n",
       "  </tbody>\n",
       "</table>\n",
       "</div>"
      ],
      "text/plain": [
       "        crim    zn  indus  chas    nox     rm   age     dis  rad  tax  \\\n",
       "450  6.71772   0.0  18.10     0  0.713  6.749  92.6  2.3236   24  666   \n",
       "119  0.14476   0.0  10.01     0  0.547  5.731  65.2  2.7592    6  432   \n",
       "200  0.01778  95.0   1.47     0  0.403  7.135  13.9  7.6534    3  402   \n",
       "480  5.82401   0.0  18.10     0  0.532  6.242  64.7  3.4242   24  666   \n",
       "360  4.54192   0.0  18.10     0  0.770  6.398  88.0  2.5182   24  666   \n",
       "\n",
       "     ptratio       b  lstat tax_cat  \n",
       "450     20.2    0.32  17.44       3  \n",
       "119     17.8  391.50  13.61       2  \n",
       "200     17.0  384.30   4.45       2  \n",
       "480     20.2  396.90  10.74       3  \n",
       "360     20.2  374.56   7.79       3  "
      ]
     },
     "execution_count": 82,
     "metadata": {},
     "output_type": "execute_result"
    }
   ],
   "source": [
    "some_data"
   ]
  },
  {
   "cell_type": "markdown",
   "metadata": {
    "id": "NFbq4GnVmDQe"
   },
   "source": [
    "Agora vamos usar métricas para ver o quão bom foi o modelo:"
   ]
  },
  {
   "cell_type": "code",
   "execution_count": 83,
   "metadata": {
    "colab": {
     "base_uri": "https://localhost:8080/"
    },
    "id": "uM8zYtAz8M3c",
    "outputId": "a39f84f3-7e5e-48ee-a091-5f8eadeb9572"
   },
   "outputs": [
    {
     "data": {
      "text/plain": [
       "4.72412649076198"
      ]
     },
     "execution_count": 83,
     "metadata": {},
     "output_type": "execute_result"
    }
   ],
   "source": [
    "from sklearn.metrics import mean_squared_error as MSE\n",
    "\n",
    "housing_predictions = lin_reg.predict(housing)\n",
    "lin_mse = MSE(housing_labels, housing_predictions)\n",
    "lin_rmse = np.sqrt(lin_mse) #Não é necessariamente obrigatório\n",
    "lin_rmse"
   ]
  },
  {
   "cell_type": "code",
   "execution_count": 84,
   "metadata": {
    "colab": {
     "base_uri": "https://localhost:8080/"
    },
    "id": "fVUWg9TX8M3e",
    "outputId": "7c71e076-526d-41f7-e99a-19434bde630d"
   },
   "outputs": [
    {
     "data": {
      "text/plain": [
       "3.3105278563134504"
      ]
     },
     "execution_count": 84,
     "metadata": {},
     "output_type": "execute_result"
    }
   ],
   "source": [
    "from sklearn.metrics import mean_absolute_error as MAE\n",
    "\n",
    "lin_mae = MAE(housing_labels, housing_predictions)\n",
    "lin_mae"
   ]
  },
  {
   "cell_type": "markdown",
   "metadata": {
    "id": "krWmzYCImYl3"
   },
   "source": [
    "Essse modelo ainda não parece ser adequado!"
   ]
  },
  {
   "cell_type": "code",
   "execution_count": 86,
   "metadata": {
    "colab": {
     "base_uri": "https://localhost:8080/"
    },
    "id": "j22oB0-98M3t",
    "outputId": "0ceea444-6f82-460c-d79b-bc06451c611e"
   },
   "outputs": [
    {
     "data": {
      "text/plain": [
       "DecisionTreeRegressor(random_state=42)"
      ]
     },
     "execution_count": 86,
     "metadata": {},
     "output_type": "execute_result"
    }
   ],
   "source": [
    "from sklearn.tree import DecisionTreeRegressor\n",
    "\n",
    "tree_reg = DecisionTreeRegressor(random_state= seed)\n",
    "tree_reg.fit(housing, housing_labels)"
   ]
  },
  {
   "cell_type": "code",
   "execution_count": 88,
   "metadata": {
    "colab": {
     "base_uri": "https://localhost:8080/"
    },
    "id": "SJlEkoBQ8M3v",
    "outputId": "466299ba-2b2f-43e9-8b93-85fc061a3b46"
   },
   "outputs": [
    {
     "data": {
      "text/plain": [
       "0.0"
      ]
     },
     "execution_count": 88,
     "metadata": {},
     "output_type": "execute_result"
    }
   ],
   "source": [
    "housing_predictions = tree_reg.predict(housing)\n",
    "tree_mse = MSE(housing_labels, housing_predictions)\n",
    "tree_rmse = np.sqrt(tree_mse)\n",
    "tree_rmse"
   ]
  },
  {
   "cell_type": "markdown",
   "metadata": {
    "id": "PLYetxKwmxhs"
   },
   "source": [
    "O quê? Erro zero? Aqui aconteceu o que nós chamamos de sobreajuste! Desconfie sempre quando o erro do teu modelo for zero. Isso não acontece na prática. O que indica que precisamos encontrar técnicas mais robustas para availiar os nossos modelos. \n",
    "\n",
    "Lembrando que o conjunto de teste deve ser usado apenas ao **final** do processo.\n",
    "\n",
    "No próximo bloco abordaremos uma maneira mais adequada de usar o conjunto de treinamento para avaliar os nossos modelos.\n",
    "\n"
   ]
  },
  {
   "cell_type": "markdown",
   "metadata": {
    "id": "f3xjl8BZonWR"
   },
   "source": [
    "#Avaliação de modelo"
   ]
  },
  {
   "cell_type": "markdown",
   "metadata": {
    "id": "DEz9LMUEmHM-"
   },
   "source": [
    "Até agora estamos treinando um modelo no conjunto de treinamento e testando nele mesmo, o que não parece ser uma estratégia muito adequada.\n",
    "\n",
    " Faremos então o seguinte: vamos separar o conjunto de treinamento em k = 10 pedaços (folds) e fazemos então um loop:\n",
    "\n",
    "*   Para cada fold:\n",
    "  1.   Treine o seu modelo no conjunto formado por: treino - fold\n",
    "  2.   Teste o seu modelo no fold\n",
    "\n",
    "* Ao final, calcule uma média dos k testes anteriores\n",
    "\n",
    "Esse processo é o que chamamos de [validação cruzada](https://scikit-learn.org/stable/modules/cross_validation.html#)!\n",
    "\n"
   ]
  },
  {
   "cell_type": "code",
   "execution_count": 89,
   "metadata": {
    "id": "1qYnAuioEkpT"
   },
   "outputs": [],
   "source": [
    "from sklearn.model_selection import cross_val_score\n",
    "\n",
    "scores = cross_val_score(tree_reg, housing, housing_labels,\n",
    "                         scoring=\"neg_mean_squared_error\", cv=10) \n",
    "\n",
    "#cv = 10 é número de pedaços\n",
    "\n",
    "tree_rmse_scores = np.sqrt(-scores)"
   ]
  },
  {
   "cell_type": "markdown",
   "metadata": {
    "id": "7p55OzCGEmVX"
   },
   "source": [
    "**OBS:** Os recursos da validação cruzada no Scikit-Learn esperam uma função de utilidade (mais alta é melhor) ao invés de uma função custo (mais alta é pior). Assim a função de pontução é oposto à função custo (negativa). Por isso o np.sqrt(-scores) no código acima.\n",
    "\n",
    "Vejamos os resultados:"
   ]
  },
  {
   "cell_type": "code",
   "execution_count": 90,
   "metadata": {
    "colab": {
     "base_uri": "https://localhost:8080/"
    },
    "id": "3DeXlTRkFKtF",
    "outputId": "adfa2d8a-8129-4bb1-efd4-b87197018733"
   },
   "outputs": [
    {
     "name": "stdout",
     "output_type": "stream",
     "text": [
      "Scores: [4.18216305 6.77696961 5.3595595  3.99780428 4.90107131 4.50394272\n",
      " 7.54088854 3.79542488 3.36325735 5.57772355]\n",
      "Mean: 4.999880478605497\n",
      "Standard deviation: 1.2702686309523727\n"
     ]
    }
   ],
   "source": [
    "def display_scores(scores):\n",
    "    print(\"Scores:\", scores)\n",
    "    print(\"Mean:\", scores.mean())\n",
    "    print(\"Standard deviation:\", scores.std())\n",
    "\n",
    "display_scores(tree_rmse_scores)"
   ]
  },
  {
   "cell_type": "markdown",
   "metadata": {
    "id": "UbGbhI8oFTI3"
   },
   "source": [
    "Vamos ver agora para o nosso modelo de regressão linear:"
   ]
  },
  {
   "cell_type": "code",
   "execution_count": 91,
   "metadata": {
    "colab": {
     "base_uri": "https://localhost:8080/"
    },
    "id": "MCPtZ0GrFZAN",
    "outputId": "cd4076d5-6b48-4171-e7a0-3d3f826eff69"
   },
   "outputs": [
    {
     "name": "stdout",
     "output_type": "stream",
     "text": [
      "Scores: [3.85115177 4.99069343 3.88760924 4.3130263  4.13383541 5.26819418\n",
      " 8.57966067 3.29416679 5.53315891 4.32899715]\n",
      "Mean: 4.8180493856186555\n",
      "Standard deviation: 1.4134615163524706\n"
     ]
    }
   ],
   "source": [
    "lin_scores = cross_val_score(lin_reg, housing, housing_labels,\n",
    "                             scoring=\"neg_mean_squared_error\", cv=10)\n",
    "lin_rmse_scores = np.sqrt(-lin_scores)\n",
    "display_scores(lin_rmse_scores)"
   ]
  },
  {
   "cell_type": "markdown",
   "metadata": {
    "id": "ARyhWZqUFawF"
   },
   "source": [
    "Note que o modelo de árvore de decisão está se sobreajustando aos dados demasiadamente, que acaba sendo pior que a regressão linear!\n",
    "\n",
    "Vamos tentar outro modelo: \"Florestas aleatórias\" para regressão. "
   ]
  },
  {
   "cell_type": "code",
   "execution_count": 92,
   "metadata": {
    "colab": {
     "base_uri": "https://localhost:8080/"
    },
    "id": "FWn6jjv2F7FQ",
    "outputId": "831032ed-13eb-4f72-d4b7-b349e8ab6cef"
   },
   "outputs": [
    {
     "data": {
      "text/plain": [
       "RandomForestRegressor(n_estimators=10, random_state=42)"
      ]
     },
     "execution_count": 92,
     "metadata": {},
     "output_type": "execute_result"
    }
   ],
   "source": [
    "from sklearn.ensemble import RandomForestRegressor\n",
    "\n",
    "forest_reg = RandomForestRegressor(n_estimators=10, random_state=42)\n",
    "forest_reg.fit(housing, housing_labels) #Treinar modelo"
   ]
  },
  {
   "cell_type": "code",
   "execution_count": 93,
   "metadata": {
    "colab": {
     "base_uri": "https://localhost:8080/"
    },
    "id": "mRpy3pF9GZul",
    "outputId": "ac454db1-640c-4e51-8dd4-d058c9feee3e"
   },
   "outputs": [
    {
     "data": {
      "text/plain": [
       "1.4761401869352209"
      ]
     },
     "execution_count": 93,
     "metadata": {},
     "output_type": "execute_result"
    }
   ],
   "source": [
    "housing_predictions = forest_reg.predict(housing) #Predizer\n",
    "forest_mse = MSE(housing_labels, housing_predictions)\n",
    "forest_rmse = np.sqrt(forest_mse)\n",
    "forest_rmse"
   ]
  },
  {
   "cell_type": "code",
   "execution_count": 94,
   "metadata": {
    "colab": {
     "base_uri": "https://localhost:8080/"
    },
    "id": "_VKsl_wLG3h1",
    "outputId": "b1adbfce-e339-4b2a-e834-f6e901e9d881"
   },
   "outputs": [
    {
     "name": "stdout",
     "output_type": "stream",
     "text": [
      "Scores: [3.2788208  3.34778995 3.52565787 2.83806186 3.86753798 3.7322942\n",
      " 5.89258793 3.28727205 3.00390746 3.47512841]\n",
      "Mean: 3.6249058505551437\n",
      "Standard deviation: 0.8099626656414741\n"
     ]
    }
   ],
   "source": [
    "from sklearn.model_selection import cross_val_score\n",
    "\n",
    "forest_scores = cross_val_score(forest_reg, housing, housing_labels,\n",
    "                                scoring=\"neg_mean_squared_error\", cv=10)\n",
    "forest_rmse_scores = np.sqrt(-forest_scores)\n",
    "display_scores(forest_rmse_scores)"
   ]
  },
  {
   "cell_type": "markdown",
   "metadata": {
    "id": "SrzsFxlBGOEq"
   },
   "source": [
    "Os resultados são melhores! \n",
    "\n",
    "Entretanto, ainda observe que a pontuação no conjunto de treino ainda é muito menor do que no conjuntos de validação, o que significa que o modelo ainda está se sobreajustando ao conjunto de treinamento.\n",
    "\n",
    "Possíveis soluções:\n",
    "- Simplificar o modelo;\n",
    "- Regularizar o modelo;\n",
    "- Obter mais dados de treinamento (hard)."
   ]
  },
  {
   "cell_type": "markdown",
   "metadata": {
    "id": "v-evQ2rCHjqa"
   },
   "source": [
    "# Ajustando e selecionando modelo"
   ]
  },
  {
   "cell_type": "markdown",
   "metadata": {
    "id": "SGFzz4MKHubw"
   },
   "source": [
    "Vamos usar o **[Grid Search](https://scikit-learn.org/stable/modules/grid_search.html#exhaustive-grid-search)** (busca em grades) para buscar melhores parâmetros para a nossa floresta aleatória. "
   ]
  },
  {
   "cell_type": "code",
   "execution_count": 95,
   "metadata": {
    "colab": {
     "base_uri": "https://localhost:8080/"
    },
    "id": "gpQQUMapIMvK",
    "outputId": "28b69032-6744-4acc-c55a-6a07abb3b99a"
   },
   "outputs": [
    {
     "data": {
      "text/plain": [
       "GridSearchCV(cv=5, estimator=RandomForestRegressor(random_state=42),\n",
       "             param_grid=[{'max_features': [2, 4, 6, 8],\n",
       "                          'n_estimators': [3, 10, 30]},\n",
       "                         {'bootstrap': [False], 'max_features': [2, 3, 4],\n",
       "                          'n_estimators': [3, 10]}],\n",
       "             return_train_score=True, scoring='neg_mean_squared_error')"
      ]
     },
     "execution_count": 95,
     "metadata": {},
     "output_type": "execute_result"
    }
   ],
   "source": [
    "from sklearn.model_selection import GridSearchCV\n",
    "\n",
    "param_grid = [\n",
    "    # Vamos tentar 12 = 3x4 combinação de parâmetros\n",
    "    {'n_estimators': [3, 10, 30], 'max_features': [2, 4, 6, 8]},\n",
    "    # Tentar 6 = 2×3 combinações do bootstrap no modo 'Falso'\n",
    "    {'bootstrap': [False], 'n_estimators': [3, 10], 'max_features': [2, 3, 4]},\n",
    "  ]\n",
    "\n",
    "forest_reg = RandomForestRegressor(random_state=seed)\n",
    "\n",
    "# Vamos treinar com 5-folds, então temos (12+6)*5=90 rodadas de treinamento!!!\n",
    "\n",
    "grid_search = GridSearchCV(forest_reg, param_grid, cv=5,\n",
    "                           scoring='neg_mean_squared_error',\n",
    "                           return_train_score=True)\n",
    "\n",
    "grid_search.fit(housing, housing_labels)"
   ]
  },
  {
   "cell_type": "markdown",
   "metadata": {
    "id": "MsUrdqotITiq"
   },
   "source": [
    "A melhor combinação de parâmetros encontrada:"
   ]
  },
  {
   "cell_type": "code",
   "execution_count": 96,
   "metadata": {
    "colab": {
     "base_uri": "https://localhost:8080/"
    },
    "id": "TRhomSWsIWUW",
    "outputId": "cb87dd9c-2aa6-4081-e661-77639aa5d92e"
   },
   "outputs": [
    {
     "data": {
      "text/plain": [
       "{'bootstrap': False, 'max_features': 4, 'n_estimators': 10}"
      ]
     },
     "execution_count": 96,
     "metadata": {},
     "output_type": "execute_result"
    }
   ],
   "source": [
    "grid_search.best_params_"
   ]
  },
  {
   "cell_type": "code",
   "execution_count": 97,
   "metadata": {
    "colab": {
     "base_uri": "https://localhost:8080/"
    },
    "id": "ZhaTLTYdIj-m",
    "outputId": "5e821b62-e6a1-4adc-f13b-eaef094912df"
   },
   "outputs": [
    {
     "data": {
      "text/plain": [
       "RandomForestRegressor(bootstrap=False, max_features=4, n_estimators=10,\n",
       "                      random_state=42)"
      ]
     },
     "execution_count": 97,
     "metadata": {},
     "output_type": "execute_result"
    }
   ],
   "source": [
    "grid_search.best_estimator_"
   ]
  },
  {
   "cell_type": "markdown",
   "metadata": {
    "id": "Z3IsMMdzIfQw"
   },
   "source": [
    "Vamos olhar a pontuação de cada hiperparâmetro testado ao longo do gridSearch:"
   ]
  },
  {
   "cell_type": "code",
   "execution_count": 98,
   "metadata": {
    "colab": {
     "base_uri": "https://localhost:8080/"
    },
    "id": "CzjEiooeIuXN",
    "outputId": "52414291-6e4b-4ae1-d0dc-c2379de48868"
   },
   "outputs": [
    {
     "name": "stdout",
     "output_type": "stream",
     "text": [
      "5.006988497434668 {'max_features': 2, 'n_estimators': 3}\n",
      "4.306587694207704 {'max_features': 2, 'n_estimators': 10}\n",
      "3.9203546378644774 {'max_features': 2, 'n_estimators': 30}\n",
      "4.582879494926806 {'max_features': 4, 'n_estimators': 3}\n",
      "4.0481051027412205 {'max_features': 4, 'n_estimators': 10}\n",
      "3.762791660671456 {'max_features': 4, 'n_estimators': 30}\n",
      "4.644318084110123 {'max_features': 6, 'n_estimators': 3}\n",
      "4.069080045118337 {'max_features': 6, 'n_estimators': 10}\n",
      "3.7759057392790467 {'max_features': 6, 'n_estimators': 30}\n",
      "4.522742576305071 {'max_features': 8, 'n_estimators': 3}\n",
      "3.9387087605733533 {'max_features': 8, 'n_estimators': 10}\n",
      "3.6416802518792477 {'max_features': 8, 'n_estimators': 30}\n",
      "4.761132852853826 {'bootstrap': False, 'max_features': 2, 'n_estimators': 3}\n",
      "3.722455413093505 {'bootstrap': False, 'max_features': 2, 'n_estimators': 10}\n",
      "4.72727426196892 {'bootstrap': False, 'max_features': 3, 'n_estimators': 3}\n",
      "3.8158702945643044 {'bootstrap': False, 'max_features': 3, 'n_estimators': 10}\n",
      "4.3355390200025115 {'bootstrap': False, 'max_features': 4, 'n_estimators': 3}\n",
      "3.6001930109439106 {'bootstrap': False, 'max_features': 4, 'n_estimators': 10}\n"
     ]
    }
   ],
   "source": [
    "cvres = grid_search.cv_results_\n",
    "for mean_score, params in zip(cvres[\"mean_test_score\"], cvres[\"params\"]):\n",
    "    print(np.sqrt(-mean_score), params)"
   ]
  },
  {
   "cell_type": "code",
   "execution_count": 99,
   "metadata": {
    "colab": {
     "base_uri": "https://localhost:8080/",
     "height": 1000
    },
    "id": "Mc7s5KbSIvL-",
    "outputId": "6a49bc50-5997-42f8-c7ec-17b336515a70"
   },
   "outputs": [
    {
     "data": {
      "text/html": [
       "<div>\n",
       "<style scoped>\n",
       "    .dataframe tbody tr th:only-of-type {\n",
       "        vertical-align: middle;\n",
       "    }\n",
       "\n",
       "    .dataframe tbody tr th {\n",
       "        vertical-align: top;\n",
       "    }\n",
       "\n",
       "    .dataframe thead th {\n",
       "        text-align: right;\n",
       "    }\n",
       "</style>\n",
       "<table border=\"1\" class=\"dataframe\">\n",
       "  <thead>\n",
       "    <tr style=\"text-align: right;\">\n",
       "      <th></th>\n",
       "      <th>mean_fit_time</th>\n",
       "      <th>std_fit_time</th>\n",
       "      <th>mean_score_time</th>\n",
       "      <th>std_score_time</th>\n",
       "      <th>param_max_features</th>\n",
       "      <th>param_n_estimators</th>\n",
       "      <th>param_bootstrap</th>\n",
       "      <th>params</th>\n",
       "      <th>split0_test_score</th>\n",
       "      <th>split1_test_score</th>\n",
       "      <th>...</th>\n",
       "      <th>mean_test_score</th>\n",
       "      <th>std_test_score</th>\n",
       "      <th>rank_test_score</th>\n",
       "      <th>split0_train_score</th>\n",
       "      <th>split1_train_score</th>\n",
       "      <th>split2_train_score</th>\n",
       "      <th>split3_train_score</th>\n",
       "      <th>split4_train_score</th>\n",
       "      <th>mean_train_score</th>\n",
       "      <th>std_train_score</th>\n",
       "    </tr>\n",
       "  </thead>\n",
       "  <tbody>\n",
       "    <tr>\n",
       "      <th>0</th>\n",
       "      <td>0.012123</td>\n",
       "      <td>2.198018e-03</td>\n",
       "      <td>0.002396</td>\n",
       "      <td>0.001198</td>\n",
       "      <td>2</td>\n",
       "      <td>3</td>\n",
       "      <td>NaN</td>\n",
       "      <td>{'max_features': 2, 'n_estimators': 3}</td>\n",
       "      <td>-20.341097</td>\n",
       "      <td>-15.183553</td>\n",
       "      <td>...</td>\n",
       "      <td>-25.069934</td>\n",
       "      <td>11.327203</td>\n",
       "      <td>18</td>\n",
       "      <td>-1.278061e+01</td>\n",
       "      <td>-1.037017e+01</td>\n",
       "      <td>-9.630303e+00</td>\n",
       "      <td>-8.584857e+00</td>\n",
       "      <td>-5.674136e+00</td>\n",
       "      <td>-9.408015e+00</td>\n",
       "      <td>2.322454e+00</td>\n",
       "    </tr>\n",
       "    <tr>\n",
       "      <th>1</th>\n",
       "      <td>0.017449</td>\n",
       "      <td>2.228022e-03</td>\n",
       "      <td>0.004719</td>\n",
       "      <td>0.005763</td>\n",
       "      <td>2</td>\n",
       "      <td>10</td>\n",
       "      <td>NaN</td>\n",
       "      <td>{'max_features': 2, 'n_estimators': 10}</td>\n",
       "      <td>-12.719059</td>\n",
       "      <td>-10.074395</td>\n",
       "      <td>...</td>\n",
       "      <td>-18.546698</td>\n",
       "      <td>11.102231</td>\n",
       "      <td>11</td>\n",
       "      <td>-5.410290e+00</td>\n",
       "      <td>-4.903956e+00</td>\n",
       "      <td>-5.033202e+00</td>\n",
       "      <td>-4.829445e+00</td>\n",
       "      <td>-3.077043e+00</td>\n",
       "      <td>-4.650787e+00</td>\n",
       "      <td>8.118830e-01</td>\n",
       "    </tr>\n",
       "    <tr>\n",
       "      <th>2</th>\n",
       "      <td>0.064570</td>\n",
       "      <td>9.023706e-03</td>\n",
       "      <td>0.004797</td>\n",
       "      <td>0.002636</td>\n",
       "      <td>2</td>\n",
       "      <td>30</td>\n",
       "      <td>NaN</td>\n",
       "      <td>{'max_features': 2, 'n_estimators': 30}</td>\n",
       "      <td>-12.653917</td>\n",
       "      <td>-9.470456</td>\n",
       "      <td>...</td>\n",
       "      <td>-15.369180</td>\n",
       "      <td>7.632247</td>\n",
       "      <td>7</td>\n",
       "      <td>-3.422464e+00</td>\n",
       "      <td>-3.501246e+00</td>\n",
       "      <td>-3.196827e+00</td>\n",
       "      <td>-2.679681e+00</td>\n",
       "      <td>-2.659752e+00</td>\n",
       "      <td>-3.091994e+00</td>\n",
       "      <td>3.590328e-01</td>\n",
       "    </tr>\n",
       "    <tr>\n",
       "      <th>3</th>\n",
       "      <td>0.009994</td>\n",
       "      <td>3.152179e-06</td>\n",
       "      <td>0.002797</td>\n",
       "      <td>0.000399</td>\n",
       "      <td>4</td>\n",
       "      <td>3</td>\n",
       "      <td>NaN</td>\n",
       "      <td>{'max_features': 4, 'n_estimators': 3}</td>\n",
       "      <td>-14.397723</td>\n",
       "      <td>-13.125048</td>\n",
       "      <td>...</td>\n",
       "      <td>-21.002784</td>\n",
       "      <td>10.980406</td>\n",
       "      <td>14</td>\n",
       "      <td>-7.442387e+00</td>\n",
       "      <td>-7.773172e+00</td>\n",
       "      <td>-1.178107e+01</td>\n",
       "      <td>-6.234510e+00</td>\n",
       "      <td>-6.171265e+00</td>\n",
       "      <td>-7.880481e+00</td>\n",
       "      <td>2.051764e+00</td>\n",
       "    </tr>\n",
       "    <tr>\n",
       "      <th>4</th>\n",
       "      <td>0.020445</td>\n",
       "      <td>3.606302e-03</td>\n",
       "      <td>0.002798</td>\n",
       "      <td>0.001469</td>\n",
       "      <td>4</td>\n",
       "      <td>10</td>\n",
       "      <td>NaN</td>\n",
       "      <td>{'max_features': 4, 'n_estimators': 10}</td>\n",
       "      <td>-11.924973</td>\n",
       "      <td>-10.927231</td>\n",
       "      <td>...</td>\n",
       "      <td>-16.387155</td>\n",
       "      <td>7.913202</td>\n",
       "      <td>9</td>\n",
       "      <td>-5.122833e+00</td>\n",
       "      <td>-4.374999e+00</td>\n",
       "      <td>-4.375601e+00</td>\n",
       "      <td>-3.326424e+00</td>\n",
       "      <td>-2.941860e+00</td>\n",
       "      <td>-4.028343e+00</td>\n",
       "      <td>7.888985e-01</td>\n",
       "    </tr>\n",
       "    <tr>\n",
       "      <th>5</th>\n",
       "      <td>0.057750</td>\n",
       "      <td>9.825326e-03</td>\n",
       "      <td>0.005319</td>\n",
       "      <td>0.005714</td>\n",
       "      <td>4</td>\n",
       "      <td>30</td>\n",
       "      <td>NaN</td>\n",
       "      <td>{'max_features': 4, 'n_estimators': 30}</td>\n",
       "      <td>-11.646745</td>\n",
       "      <td>-8.938972</td>\n",
       "      <td>...</td>\n",
       "      <td>-14.158601</td>\n",
       "      <td>5.775062</td>\n",
       "      <td>4</td>\n",
       "      <td>-3.320547e+00</td>\n",
       "      <td>-2.936193e+00</td>\n",
       "      <td>-2.884829e+00</td>\n",
       "      <td>-2.112204e+00</td>\n",
       "      <td>-2.316488e+00</td>\n",
       "      <td>-2.714052e+00</td>\n",
       "      <td>4.396875e-01</td>\n",
       "    </tr>\n",
       "    <tr>\n",
       "      <th>6</th>\n",
       "      <td>0.012724</td>\n",
       "      <td>3.697302e-03</td>\n",
       "      <td>0.000600</td>\n",
       "      <td>0.001199</td>\n",
       "      <td>6</td>\n",
       "      <td>3</td>\n",
       "      <td>NaN</td>\n",
       "      <td>{'max_features': 6, 'n_estimators': 3}</td>\n",
       "      <td>-17.454664</td>\n",
       "      <td>-11.843621</td>\n",
       "      <td>...</td>\n",
       "      <td>-21.569690</td>\n",
       "      <td>8.252767</td>\n",
       "      <td>15</td>\n",
       "      <td>-6.550065e+00</td>\n",
       "      <td>-5.392900e+00</td>\n",
       "      <td>-6.217905e+00</td>\n",
       "      <td>-5.767681e+00</td>\n",
       "      <td>-3.630415e+00</td>\n",
       "      <td>-5.511793e+00</td>\n",
       "      <td>1.019392e+00</td>\n",
       "    </tr>\n",
       "    <tr>\n",
       "      <th>7</th>\n",
       "      <td>0.023350</td>\n",
       "      <td>6.984306e-03</td>\n",
       "      <td>0.003724</td>\n",
       "      <td>0.006062</td>\n",
       "      <td>6</td>\n",
       "      <td>10</td>\n",
       "      <td>NaN</td>\n",
       "      <td>{'max_features': 6, 'n_estimators': 10}</td>\n",
       "      <td>-10.335675</td>\n",
       "      <td>-11.628288</td>\n",
       "      <td>...</td>\n",
       "      <td>-16.557412</td>\n",
       "      <td>7.029910</td>\n",
       "      <td>10</td>\n",
       "      <td>-5.001553e+00</td>\n",
       "      <td>-4.049977e+00</td>\n",
       "      <td>-3.858801e+00</td>\n",
       "      <td>-3.016034e+00</td>\n",
       "      <td>-2.115269e+00</td>\n",
       "      <td>-3.608327e+00</td>\n",
       "      <td>9.776403e-01</td>\n",
       "    </tr>\n",
       "    <tr>\n",
       "      <th>8</th>\n",
       "      <td>0.065229</td>\n",
       "      <td>5.480842e-03</td>\n",
       "      <td>0.000999</td>\n",
       "      <td>0.001999</td>\n",
       "      <td>6</td>\n",
       "      <td>30</td>\n",
       "      <td>NaN</td>\n",
       "      <td>{'max_features': 6, 'n_estimators': 30}</td>\n",
       "      <td>-10.498117</td>\n",
       "      <td>-9.604141</td>\n",
       "      <td>...</td>\n",
       "      <td>-14.257464</td>\n",
       "      <td>6.191423</td>\n",
       "      <td>5</td>\n",
       "      <td>-3.151403e+00</td>\n",
       "      <td>-2.603679e+00</td>\n",
       "      <td>-2.763396e+00</td>\n",
       "      <td>-2.231708e+00</td>\n",
       "      <td>-2.118812e+00</td>\n",
       "      <td>-2.573800e+00</td>\n",
       "      <td>3.726943e-01</td>\n",
       "    </tr>\n",
       "    <tr>\n",
       "      <th>9</th>\n",
       "      <td>0.012205</td>\n",
       "      <td>5.779039e-03</td>\n",
       "      <td>0.005164</td>\n",
       "      <td>0.003361</td>\n",
       "      <td>8</td>\n",
       "      <td>3</td>\n",
       "      <td>NaN</td>\n",
       "      <td>{'max_features': 8, 'n_estimators': 3}</td>\n",
       "      <td>-16.722977</td>\n",
       "      <td>-15.093731</td>\n",
       "      <td>...</td>\n",
       "      <td>-20.455200</td>\n",
       "      <td>10.077602</td>\n",
       "      <td>13</td>\n",
       "      <td>-8.930671e+00</td>\n",
       "      <td>-5.755913e+00</td>\n",
       "      <td>-6.700261e+00</td>\n",
       "      <td>-6.169364e+00</td>\n",
       "      <td>-5.136619e+00</td>\n",
       "      <td>-6.538566e+00</td>\n",
       "      <td>1.300971e+00</td>\n",
       "    </tr>\n",
       "    <tr>\n",
       "      <th>10</th>\n",
       "      <td>0.038806</td>\n",
       "      <td>4.604603e-03</td>\n",
       "      <td>0.003520</td>\n",
       "      <td>0.000775</td>\n",
       "      <td>8</td>\n",
       "      <td>10</td>\n",
       "      <td>NaN</td>\n",
       "      <td>{'max_features': 8, 'n_estimators': 10}</td>\n",
       "      <td>-10.406047</td>\n",
       "      <td>-11.667307</td>\n",
       "      <td>...</td>\n",
       "      <td>-15.513427</td>\n",
       "      <td>7.007334</td>\n",
       "      <td>8</td>\n",
       "      <td>-4.877144e+00</td>\n",
       "      <td>-4.325894e+00</td>\n",
       "      <td>-3.996116e+00</td>\n",
       "      <td>-3.117425e+00</td>\n",
       "      <td>-2.646021e+00</td>\n",
       "      <td>-3.792520e+00</td>\n",
       "      <td>8.090194e-01</td>\n",
       "    </tr>\n",
       "    <tr>\n",
       "      <th>11</th>\n",
       "      <td>0.064095</td>\n",
       "      <td>4.546421e-03</td>\n",
       "      <td>0.004120</td>\n",
       "      <td>0.006059</td>\n",
       "      <td>8</td>\n",
       "      <td>30</td>\n",
       "      <td>NaN</td>\n",
       "      <td>{'max_features': 8, 'n_estimators': 30}</td>\n",
       "      <td>-10.306419</td>\n",
       "      <td>-9.895685</td>\n",
       "      <td>...</td>\n",
       "      <td>-13.261835</td>\n",
       "      <td>5.143113</td>\n",
       "      <td>2</td>\n",
       "      <td>-2.967072e+00</td>\n",
       "      <td>-2.715875e+00</td>\n",
       "      <td>-2.695973e+00</td>\n",
       "      <td>-2.345744e+00</td>\n",
       "      <td>-2.177125e+00</td>\n",
       "      <td>-2.580358e+00</td>\n",
       "      <td>2.824606e-01</td>\n",
       "    </tr>\n",
       "    <tr>\n",
       "      <th>12</th>\n",
       "      <td>0.006250</td>\n",
       "      <td>7.654247e-03</td>\n",
       "      <td>0.003129</td>\n",
       "      <td>0.006259</td>\n",
       "      <td>2</td>\n",
       "      <td>3</td>\n",
       "      <td>False</td>\n",
       "      <td>{'bootstrap': False, 'max_features': 2, 'n_est...</td>\n",
       "      <td>-21.979602</td>\n",
       "      <td>-20.149246</td>\n",
       "      <td>...</td>\n",
       "      <td>-22.668386</td>\n",
       "      <td>3.422381</td>\n",
       "      <td>17</td>\n",
       "      <td>-2.447178e-30</td>\n",
       "      <td>-2.718273e-30</td>\n",
       "      <td>-2.544870e-30</td>\n",
       "      <td>-2.769561e-30</td>\n",
       "      <td>-2.466408e-30</td>\n",
       "      <td>-2.589258e-30</td>\n",
       "      <td>1.314559e-31</td>\n",
       "    </tr>\n",
       "    <tr>\n",
       "      <th>13</th>\n",
       "      <td>0.018753</td>\n",
       "      <td>6.245547e-03</td>\n",
       "      <td>0.003125</td>\n",
       "      <td>0.006250</td>\n",
       "      <td>2</td>\n",
       "      <td>10</td>\n",
       "      <td>False</td>\n",
       "      <td>{'bootstrap': False, 'max_features': 2, 'n_est...</td>\n",
       "      <td>-12.133033</td>\n",
       "      <td>-11.388978</td>\n",
       "      <td>...</td>\n",
       "      <td>-13.856674</td>\n",
       "      <td>4.413207</td>\n",
       "      <td>3</td>\n",
       "      <td>-1.160090e-29</td>\n",
       "      <td>-1.138109e-29</td>\n",
       "      <td>-1.104161e-29</td>\n",
       "      <td>-1.119547e-29</td>\n",
       "      <td>-1.106597e-29</td>\n",
       "      <td>-1.125701e-29</td>\n",
       "      <td>2.099212e-31</td>\n",
       "    </tr>\n",
       "    <tr>\n",
       "      <th>14</th>\n",
       "      <td>0.015624</td>\n",
       "      <td>2.780415e-07</td>\n",
       "      <td>0.000000</td>\n",
       "      <td>0.000000</td>\n",
       "      <td>3</td>\n",
       "      <td>3</td>\n",
       "      <td>False</td>\n",
       "      <td>{'bootstrap': False, 'max_features': 3, 'n_est...</td>\n",
       "      <td>-17.733937</td>\n",
       "      <td>-19.570686</td>\n",
       "      <td>...</td>\n",
       "      <td>-22.347122</td>\n",
       "      <td>8.188318</td>\n",
       "      <td>16</td>\n",
       "      <td>-2.447178e-30</td>\n",
       "      <td>-2.718273e-30</td>\n",
       "      <td>-2.544870e-30</td>\n",
       "      <td>-2.769561e-30</td>\n",
       "      <td>-2.466408e-30</td>\n",
       "      <td>-2.589258e-30</td>\n",
       "      <td>1.314559e-31</td>\n",
       "    </tr>\n",
       "    <tr>\n",
       "      <th>15</th>\n",
       "      <td>0.018749</td>\n",
       "      <td>6.247869e-03</td>\n",
       "      <td>0.000000</td>\n",
       "      <td>0.000000</td>\n",
       "      <td>3</td>\n",
       "      <td>10</td>\n",
       "      <td>False</td>\n",
       "      <td>{'bootstrap': False, 'max_features': 3, 'n_est...</td>\n",
       "      <td>-12.420981</td>\n",
       "      <td>-10.586330</td>\n",
       "      <td>...</td>\n",
       "      <td>-14.560866</td>\n",
       "      <td>4.973848</td>\n",
       "      <td>6</td>\n",
       "      <td>-1.160090e-29</td>\n",
       "      <td>-1.138109e-29</td>\n",
       "      <td>-1.104161e-29</td>\n",
       "      <td>-1.119547e-29</td>\n",
       "      <td>-1.106597e-29</td>\n",
       "      <td>-1.125701e-29</td>\n",
       "      <td>2.099212e-31</td>\n",
       "    </tr>\n",
       "    <tr>\n",
       "      <th>16</th>\n",
       "      <td>0.009375</td>\n",
       "      <td>7.654578e-03</td>\n",
       "      <td>0.000000</td>\n",
       "      <td>0.000000</td>\n",
       "      <td>4</td>\n",
       "      <td>3</td>\n",
       "      <td>False</td>\n",
       "      <td>{'bootstrap': False, 'max_features': 4, 'n_est...</td>\n",
       "      <td>-15.492291</td>\n",
       "      <td>-13.713731</td>\n",
       "      <td>...</td>\n",
       "      <td>-18.796899</td>\n",
       "      <td>7.830969</td>\n",
       "      <td>12</td>\n",
       "      <td>-2.447178e-30</td>\n",
       "      <td>-2.718273e-30</td>\n",
       "      <td>-6.879945e-06</td>\n",
       "      <td>-2.769561e-30</td>\n",
       "      <td>-2.466408e-30</td>\n",
       "      <td>-1.375989e-06</td>\n",
       "      <td>2.751978e-06</td>\n",
       "    </tr>\n",
       "    <tr>\n",
       "      <th>17</th>\n",
       "      <td>0.021869</td>\n",
       "      <td>7.657110e-03</td>\n",
       "      <td>0.003124</td>\n",
       "      <td>0.006249</td>\n",
       "      <td>4</td>\n",
       "      <td>10</td>\n",
       "      <td>False</td>\n",
       "      <td>{'bootstrap': False, 'max_features': 4, 'n_est...</td>\n",
       "      <td>-10.365062</td>\n",
       "      <td>-10.780057</td>\n",
       "      <td>...</td>\n",
       "      <td>-12.961390</td>\n",
       "      <td>3.345555</td>\n",
       "      <td>1</td>\n",
       "      <td>-1.160090e-29</td>\n",
       "      <td>-1.138109e-29</td>\n",
       "      <td>-6.191950e-07</td>\n",
       "      <td>-1.119547e-29</td>\n",
       "      <td>-1.106597e-29</td>\n",
       "      <td>-1.238390e-07</td>\n",
       "      <td>2.476780e-07</td>\n",
       "    </tr>\n",
       "  </tbody>\n",
       "</table>\n",
       "<p>18 rows × 23 columns</p>\n",
       "</div>"
      ],
      "text/plain": [
       "    mean_fit_time  std_fit_time  mean_score_time  std_score_time  \\\n",
       "0        0.012123  2.198018e-03         0.002396        0.001198   \n",
       "1        0.017449  2.228022e-03         0.004719        0.005763   \n",
       "2        0.064570  9.023706e-03         0.004797        0.002636   \n",
       "3        0.009994  3.152179e-06         0.002797        0.000399   \n",
       "4        0.020445  3.606302e-03         0.002798        0.001469   \n",
       "5        0.057750  9.825326e-03         0.005319        0.005714   \n",
       "6        0.012724  3.697302e-03         0.000600        0.001199   \n",
       "7        0.023350  6.984306e-03         0.003724        0.006062   \n",
       "8        0.065229  5.480842e-03         0.000999        0.001999   \n",
       "9        0.012205  5.779039e-03         0.005164        0.003361   \n",
       "10       0.038806  4.604603e-03         0.003520        0.000775   \n",
       "11       0.064095  4.546421e-03         0.004120        0.006059   \n",
       "12       0.006250  7.654247e-03         0.003129        0.006259   \n",
       "13       0.018753  6.245547e-03         0.003125        0.006250   \n",
       "14       0.015624  2.780415e-07         0.000000        0.000000   \n",
       "15       0.018749  6.247869e-03         0.000000        0.000000   \n",
       "16       0.009375  7.654578e-03         0.000000        0.000000   \n",
       "17       0.021869  7.657110e-03         0.003124        0.006249   \n",
       "\n",
       "   param_max_features param_n_estimators param_bootstrap  \\\n",
       "0                   2                  3             NaN   \n",
       "1                   2                 10             NaN   \n",
       "2                   2                 30             NaN   \n",
       "3                   4                  3             NaN   \n",
       "4                   4                 10             NaN   \n",
       "5                   4                 30             NaN   \n",
       "6                   6                  3             NaN   \n",
       "7                   6                 10             NaN   \n",
       "8                   6                 30             NaN   \n",
       "9                   8                  3             NaN   \n",
       "10                  8                 10             NaN   \n",
       "11                  8                 30             NaN   \n",
       "12                  2                  3           False   \n",
       "13                  2                 10           False   \n",
       "14                  3                  3           False   \n",
       "15                  3                 10           False   \n",
       "16                  4                  3           False   \n",
       "17                  4                 10           False   \n",
       "\n",
       "                                               params  split0_test_score  \\\n",
       "0              {'max_features': 2, 'n_estimators': 3}         -20.341097   \n",
       "1             {'max_features': 2, 'n_estimators': 10}         -12.719059   \n",
       "2             {'max_features': 2, 'n_estimators': 30}         -12.653917   \n",
       "3              {'max_features': 4, 'n_estimators': 3}         -14.397723   \n",
       "4             {'max_features': 4, 'n_estimators': 10}         -11.924973   \n",
       "5             {'max_features': 4, 'n_estimators': 30}         -11.646745   \n",
       "6              {'max_features': 6, 'n_estimators': 3}         -17.454664   \n",
       "7             {'max_features': 6, 'n_estimators': 10}         -10.335675   \n",
       "8             {'max_features': 6, 'n_estimators': 30}         -10.498117   \n",
       "9              {'max_features': 8, 'n_estimators': 3}         -16.722977   \n",
       "10            {'max_features': 8, 'n_estimators': 10}         -10.406047   \n",
       "11            {'max_features': 8, 'n_estimators': 30}         -10.306419   \n",
       "12  {'bootstrap': False, 'max_features': 2, 'n_est...         -21.979602   \n",
       "13  {'bootstrap': False, 'max_features': 2, 'n_est...         -12.133033   \n",
       "14  {'bootstrap': False, 'max_features': 3, 'n_est...         -17.733937   \n",
       "15  {'bootstrap': False, 'max_features': 3, 'n_est...         -12.420981   \n",
       "16  {'bootstrap': False, 'max_features': 4, 'n_est...         -15.492291   \n",
       "17  {'bootstrap': False, 'max_features': 4, 'n_est...         -10.365062   \n",
       "\n",
       "    split1_test_score  ...  mean_test_score  std_test_score  rank_test_score  \\\n",
       "0          -15.183553  ...       -25.069934       11.327203               18   \n",
       "1          -10.074395  ...       -18.546698       11.102231               11   \n",
       "2           -9.470456  ...       -15.369180        7.632247                7   \n",
       "3          -13.125048  ...       -21.002784       10.980406               14   \n",
       "4          -10.927231  ...       -16.387155        7.913202                9   \n",
       "5           -8.938972  ...       -14.158601        5.775062                4   \n",
       "6          -11.843621  ...       -21.569690        8.252767               15   \n",
       "7          -11.628288  ...       -16.557412        7.029910               10   \n",
       "8           -9.604141  ...       -14.257464        6.191423                5   \n",
       "9          -15.093731  ...       -20.455200       10.077602               13   \n",
       "10         -11.667307  ...       -15.513427        7.007334                8   \n",
       "11          -9.895685  ...       -13.261835        5.143113                2   \n",
       "12         -20.149246  ...       -22.668386        3.422381               17   \n",
       "13         -11.388978  ...       -13.856674        4.413207                3   \n",
       "14         -19.570686  ...       -22.347122        8.188318               16   \n",
       "15         -10.586330  ...       -14.560866        4.973848                6   \n",
       "16         -13.713731  ...       -18.796899        7.830969               12   \n",
       "17         -10.780057  ...       -12.961390        3.345555                1   \n",
       "\n",
       "    split0_train_score  split1_train_score  split2_train_score  \\\n",
       "0        -1.278061e+01       -1.037017e+01       -9.630303e+00   \n",
       "1        -5.410290e+00       -4.903956e+00       -5.033202e+00   \n",
       "2        -3.422464e+00       -3.501246e+00       -3.196827e+00   \n",
       "3        -7.442387e+00       -7.773172e+00       -1.178107e+01   \n",
       "4        -5.122833e+00       -4.374999e+00       -4.375601e+00   \n",
       "5        -3.320547e+00       -2.936193e+00       -2.884829e+00   \n",
       "6        -6.550065e+00       -5.392900e+00       -6.217905e+00   \n",
       "7        -5.001553e+00       -4.049977e+00       -3.858801e+00   \n",
       "8        -3.151403e+00       -2.603679e+00       -2.763396e+00   \n",
       "9        -8.930671e+00       -5.755913e+00       -6.700261e+00   \n",
       "10       -4.877144e+00       -4.325894e+00       -3.996116e+00   \n",
       "11       -2.967072e+00       -2.715875e+00       -2.695973e+00   \n",
       "12       -2.447178e-30       -2.718273e-30       -2.544870e-30   \n",
       "13       -1.160090e-29       -1.138109e-29       -1.104161e-29   \n",
       "14       -2.447178e-30       -2.718273e-30       -2.544870e-30   \n",
       "15       -1.160090e-29       -1.138109e-29       -1.104161e-29   \n",
       "16       -2.447178e-30       -2.718273e-30       -6.879945e-06   \n",
       "17       -1.160090e-29       -1.138109e-29       -6.191950e-07   \n",
       "\n",
       "    split3_train_score  split4_train_score  mean_train_score  std_train_score  \n",
       "0        -8.584857e+00       -5.674136e+00     -9.408015e+00     2.322454e+00  \n",
       "1        -4.829445e+00       -3.077043e+00     -4.650787e+00     8.118830e-01  \n",
       "2        -2.679681e+00       -2.659752e+00     -3.091994e+00     3.590328e-01  \n",
       "3        -6.234510e+00       -6.171265e+00     -7.880481e+00     2.051764e+00  \n",
       "4        -3.326424e+00       -2.941860e+00     -4.028343e+00     7.888985e-01  \n",
       "5        -2.112204e+00       -2.316488e+00     -2.714052e+00     4.396875e-01  \n",
       "6        -5.767681e+00       -3.630415e+00     -5.511793e+00     1.019392e+00  \n",
       "7        -3.016034e+00       -2.115269e+00     -3.608327e+00     9.776403e-01  \n",
       "8        -2.231708e+00       -2.118812e+00     -2.573800e+00     3.726943e-01  \n",
       "9        -6.169364e+00       -5.136619e+00     -6.538566e+00     1.300971e+00  \n",
       "10       -3.117425e+00       -2.646021e+00     -3.792520e+00     8.090194e-01  \n",
       "11       -2.345744e+00       -2.177125e+00     -2.580358e+00     2.824606e-01  \n",
       "12       -2.769561e-30       -2.466408e-30     -2.589258e-30     1.314559e-31  \n",
       "13       -1.119547e-29       -1.106597e-29     -1.125701e-29     2.099212e-31  \n",
       "14       -2.769561e-30       -2.466408e-30     -2.589258e-30     1.314559e-31  \n",
       "15       -1.119547e-29       -1.106597e-29     -1.125701e-29     2.099212e-31  \n",
       "16       -2.769561e-30       -2.466408e-30     -1.375989e-06     2.751978e-06  \n",
       "17       -1.119547e-29       -1.106597e-29     -1.238390e-07     2.476780e-07  \n",
       "\n",
       "[18 rows x 23 columns]"
      ]
     },
     "execution_count": 99,
     "metadata": {},
     "output_type": "execute_result"
    }
   ],
   "source": [
    "pd.DataFrame(grid_search.cv_results_)"
   ]
  },
  {
   "cell_type": "markdown",
   "metadata": {
    "id": "CXylQP6aJEmh"
   },
   "source": [
    "Uma abordagem alternativa ao GridSearch é usar o [RandomizedSearchCV](https://scikit-learn.org/stable/modules/grid_search.html#randomized-parameter-optimization). Essa nova ferrramenta de busca é indicada para quando deseja-se buscar hiperparâmetros com um número elevado de combinaçoes.\n",
    "\n",
    "- É usada da mesma maneira que o GridSearch, mas ao invés de tentar todas as combinações ela selaciona um valor aleatório para cada hiperparâmetro em cada iteração e avalia um número de combinações aleatórias;\n",
    "\n",
    "- Se você permitir muitas iterações (por exemplo, mais de 1000), ela irá explorar 1000 combinações diferentes de hiperparâmetros.\n",
    "\n"
   ]
  },
  {
   "cell_type": "code",
   "execution_count": 100,
   "metadata": {
    "colab": {
     "base_uri": "https://localhost:8080/"
    },
    "id": "-cdKggUAJ2YG",
    "outputId": "5cd6d57e-5eb2-41d9-f4e9-8ae838d27917"
   },
   "outputs": [
    {
     "data": {
      "text/plain": [
       "RandomizedSearchCV(cv=5, estimator=RandomForestRegressor(random_state=42),\n",
       "                   param_distributions={'max_features': <scipy.stats._distn_infrastructure.rv_frozen object at 0x000001C23E86B1F0>,\n",
       "                                        'n_estimators': <scipy.stats._distn_infrastructure.rv_frozen object at 0x000001C23F1CE9D0>},\n",
       "                   random_state=42, scoring='neg_mean_squared_error')"
      ]
     },
     "execution_count": 100,
     "metadata": {},
     "output_type": "execute_result"
    }
   ],
   "source": [
    "from sklearn.model_selection import RandomizedSearchCV\n",
    "from scipy.stats import randint\n",
    "\n",
    "param_distribs = {\n",
    "        'n_estimators': randint(low=1, high=200),\n",
    "        'max_features': randint(low=1, high=8),\n",
    "    }\n",
    "\n",
    "forest_reg = RandomForestRegressor(random_state=seed)\n",
    "\n",
    "rnd_search = RandomizedSearchCV(forest_reg,\n",
    "                                param_distributions=param_distribs,\n",
    "                                n_iter=10,\n",
    "                                cv=5, \n",
    "                                scoring='neg_mean_squared_error', \n",
    "                                random_state=seed)\n",
    "\n",
    "rnd_search.fit(housing, housing_labels)"
   ]
  },
  {
   "cell_type": "markdown",
   "metadata": {
    "id": "1yh3N-8fJ6h8"
   },
   "source": [
    "Vejamos os resultados:"
   ]
  },
  {
   "cell_type": "code",
   "execution_count": 101,
   "metadata": {
    "colab": {
     "base_uri": "https://localhost:8080/"
    },
    "id": "fFnkO-pLJ8dy",
    "outputId": "bf5e5305-157a-4516-afb1-1b98bf8cdcfa"
   },
   "outputs": [
    {
     "name": "stdout",
     "output_type": "stream",
     "text": [
      "3.5151105075972113 {'max_features': 7, 'n_estimators': 180}\n",
      "3.9582981945158986 {'max_features': 5, 'n_estimators': 15}\n",
      "3.657485324285938 {'max_features': 3, 'n_estimators': 72}\n",
      "3.8191756353333246 {'max_features': 5, 'n_estimators': 21}\n",
      "3.5421624808847696 {'max_features': 7, 'n_estimators': 122}\n",
      "3.6566024421473124 {'max_features': 3, 'n_estimators': 75}\n",
      "3.6510994339346823 {'max_features': 3, 'n_estimators': 88}\n",
      "3.559594567373378 {'max_features': 5, 'n_estimators': 100}\n",
      "3.64538988013481 {'max_features': 3, 'n_estimators': 150}\n",
      "4.741857242476273 {'max_features': 5, 'n_estimators': 2}\n"
     ]
    }
   ],
   "source": [
    "cvres = rnd_search.cv_results_\n",
    "for mean_score, params in zip(cvres[\"mean_test_score\"], cvres[\"params\"]):\n",
    "    print(np.sqrt(-mean_score), params)"
   ]
  },
  {
   "cell_type": "markdown",
   "metadata": {
    "id": "9A_Az1qWKAiJ"
   },
   "source": [
    "Vejamos as características mais importantes! (feature das florestas aleatórias)"
   ]
  },
  {
   "cell_type": "code",
   "execution_count": 102,
   "metadata": {
    "colab": {
     "base_uri": "https://localhost:8080/"
    },
    "id": "n3g7GuhQJ_st",
    "outputId": "5c3708c6-32ba-4624-e57d-42aaa6bacd9d"
   },
   "outputs": [
    {
     "data": {
      "text/plain": [
       "array([0.04939748, 0.00343733, 0.0642746 , 0.00437101, 0.05841593,\n",
       "       0.24213954, 0.03315781, 0.06502976, 0.00488478, 0.0182802 ,\n",
       "       0.14375588, 0.0252444 , 0.285294  , 0.00231729])"
      ]
     },
     "execution_count": 102,
     "metadata": {},
     "output_type": "execute_result"
    }
   ],
   "source": [
    "feature_importances = grid_search.best_estimator_.feature_importances_\n",
    "feature_importances"
   ]
  },
  {
   "cell_type": "markdown",
   "metadata": {
    "id": "ksZpTGM9pQ6m"
   },
   "source": [
    "#Modelo e teste final"
   ]
  },
  {
   "cell_type": "markdown",
   "metadata": {
    "id": "ultXdpMqpWmi"
   },
   "source": [
    "Após todas as etapas anteriores, podemos fazer o teste final do nosso modelo:"
   ]
  },
  {
   "cell_type": "code",
   "execution_count": 126,
   "metadata": {
    "id": "BUADiq60KfHz"
   },
   "outputs": [],
   "source": [
    "final_model = grid_search.best_estimator_\n",
    "\n",
    "X_test = strat_test_set.drop(\"medv\", axis=1)\n",
    "y_test = strat_test_set[\"medv\"].copy()"
   ]
  },
  {
   "cell_type": "code",
   "execution_count": 127,
   "metadata": {},
   "outputs": [],
   "source": [
    "final_predictions = final_model.predict(X_test)\n",
    "\n",
    "final_mse = MSE(y_test, final_predictions)\n",
    "final_rmse = np.sqrt(final_mse)"
   ]
  },
  {
   "cell_type": "markdown",
   "metadata": {},
   "source": [
    "# Erro final"
   ]
  },
  {
   "cell_type": "code",
   "execution_count": 128,
   "metadata": {
    "colab": {
     "base_uri": "https://localhost:8080/"
    },
    "id": "aBKt_lIqQDDw",
    "outputId": "69a6fce7-38e8-4750-d41f-9c1045c70a40"
   },
   "outputs": [
    {
     "data": {
      "text/plain": [
       "2.91938836597198"
      ]
     },
     "execution_count": 128,
     "metadata": {},
     "output_type": "execute_result"
    }
   ],
   "source": [
    "final_rmse"
   ]
  },
  {
   "cell_type": "code",
   "execution_count": null,
   "metadata": {
    "id": "0yeqS4aUtI59"
   },
   "outputs": [],
   "source": []
  }
 ],
 "metadata": {
  "colab": {
   "collapsed_sections": [
    "6T9pPKu28Mwe",
    "UBjzryXYKMb5",
    "HMaugIFD5xmR",
    "hEd0_zms8M3Q",
    "f3xjl8BZonWR",
    "v-evQ2rCHjqa",
    "ksZpTGM9pQ6m"
   ],
   "name": "Projeto_offline_ML.ipynb",
   "provenance": []
  },
  "kernelspec": {
   "display_name": "Python 3",
   "language": "python",
   "name": "python3"
  },
  "language_info": {
   "codemirror_mode": {
    "name": "ipython",
    "version": 3
   },
   "file_extension": ".py",
   "mimetype": "text/x-python",
   "name": "python",
   "nbconvert_exporter": "python",
   "pygments_lexer": "ipython3",
   "version": "3.8.3"
  },
  "nav_menu": {
   "height": "279px",
   "width": "309px"
  },
  "toc": {
   "nav_menu": {},
   "number_sections": true,
   "sideBar": true,
   "skip_h1_title": false,
   "toc_cell": false,
   "toc_position": {},
   "toc_section_display": "block",
   "toc_window_display": false
  }
 },
 "nbformat": 4,
 "nbformat_minor": 1
}
